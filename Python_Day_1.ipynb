{
 "cells": [
  {
   "cell_type": "markdown",
   "metadata": {},
   "source": [
    "# Advance Python by IQRA Learnings"
   ]
  },
  {
   "cell_type": "markdown",
   "metadata": {},
   "source": [
    "## By Noor Mohammed Sadiq Shaik"
   ]
  },
  {
   "cell_type": "markdown",
   "metadata": {},
   "source": [
    "# Day _ 01"
   ]
  },
  {
   "cell_type": "markdown",
   "metadata": {},
   "source": [
    "# Language Fundamentals"
   ]
  },
  {
   "cell_type": "markdown",
   "metadata": {},
   "source": [
    "## Todays Agenda"
   ]
  },
  {
   "cell_type": "markdown",
   "metadata": {},
   "source": [
    "1. **Introduction of Python**\n",
    "2. **Where we can use Python**\n",
    "3. **Features of Python**\n",
    "4. **Limitations of Python**\n",
    "5. **Flavors/Types of Python**\n",
    "6. **Python Editors**\n",
    "7. **Text Editors**\n",
    "8. **Python Versions**\n",
    "9. **Python Installation Process**"
   ]
  },
  {
   "cell_type": "markdown",
   "metadata": {},
   "source": [
    "### 1. Introduction"
   ]
  },
  {
   "cell_type": "markdown",
   "metadata": {},
   "source": [
    "* Python is a **general purpose(use anywhere) high level(understandable to all) programming language**.\n",
    "* Python was developed by **Guido Van Rossam in 1989 while working at National Research Institute at Netherlands**.\n",
    "* But officially Python was made available to public in **1991**.  The official Date of Birth for Python is : Feb 20th 1991.\n",
    "* Python is recommended as first programming language for beginners.\n",
    "* The name Python was selected from the TV Show **The Complete Monty Python's Circus**\n",
    "* which was broadcasted in BBC from 1969 to 1974.\n",
    "* Guido developed Python language by taking almost all programming features from different languages\n",
    "    1. Functional Programming Features from C\n",
    "    2. Object Oriented Programming Features from C++\n",
    "    3. Scripting Language Features from Perl and Shell Script\n",
    "    4. Modular Programming Features from Modula-3\n",
    "        Most of syntax in Python Derived from C and ABC languages."
   ]
  },
  {
   "cell_type": "markdown",
   "metadata": {},
   "source": [
    "### 2. Where we can use Python"
   ]
  },
  {
   "cell_type": "markdown",
   "metadata": {},
   "source": [
    "We can use everywhere. The most common important application areas are,\n",
    "\n",
    "1. For developing Desktop Applications\n",
    "2. For developing web Applications \n",
    "3. For developing database Applications\n",
    "4. For Network Programming\n",
    "5. For developing games\n",
    "6. For Data Analysis Applications\n",
    "7. For Machine Learning\n",
    "8. For develop Artificial Intelligence Applications\n",
    "9. For IOT\n",
    "And many more..\n"
   ]
  },
  {
   "cell_type": "markdown",
   "metadata": {},
   "source": [
    "#### Note"
   ]
  },
  {
   "cell_type": "markdown",
   "metadata": {},
   "source": [
    "* Internally Google and Youtube uses Python coding\n",
    "* NASA and Nework Stock Exchange Applications developed by Python.\n",
    "* Top Software companies like Google, Microsoft, IBM, Yahoo using Python."
   ]
  },
  {
   "cell_type": "markdown",
   "metadata": {},
   "source": [
    "### 3. Features of Python"
   ]
  },
  {
   "cell_type": "markdown",
   "metadata": {},
   "source": [
    "1. **Simple and easy to learn:**\n",
    "\n",
    "Python is a simple programming language. When we read Python program,we can feel like\n",
    "reading english statements.\n",
    "The syntaxes are very simple and only 30+ kerywords are available.\n",
    "When compared with other languages, we can write programs with very less number of\n",
    "lines. Hence more readability and simplicity.\n",
    "We can reduce development and cost of the project.\n",
    "\n",
    "2. **Freeware and Open Source:**\n",
    "\n",
    "We can use Python software without any licence and it is freeware.\n",
    "Its source code is open,so that we can we can customize based on our requirement.\n",
    "Eg: Jython is customized version of Python to work with Java Applications.\n",
    "\n",
    "3. **High Level Programming language:**\n",
    "\n",
    "Python is high level programming language and hence it is programmer friendly language.\n",
    "Being a programmer we are not required to concentrate low level activities like memory\n",
    "management and security etc..\n",
    "\n",
    "4. **Platform Independent:**\n",
    "\n",
    "Once we write a Python program,it can run on any platform without rewriting once again.\n",
    "Internally PVM is responsible to convert into machine understandable form.\n",
    "\n",
    "5. **Portability:**\n",
    "\n",
    "Python programs are portable. ie we can migrate from one platform to another platform\n",
    "very easily. Python programs will provide same results on any paltform.\n",
    "\n",
    "6. **Dynamically Typed:**\n",
    "\n",
    "In Python we are not required to declare type for variables. Whenever we are assigning\n",
    "the value, based on value, type will be allocated automatically.Hence Python is considered\n",
    "as dynamically typed language.\n",
    "But Java, C etc are Statically Typed Languages bcoz we have to provide type at the beginning\n",
    "only.\n",
    "This dynamic typing nature will provide more flexibility to the programmer.\n",
    "\n",
    "7. **Both Procedure Oriented and Object Oriented:**\n",
    "\n",
    "Python language supports both Procedure oriented (like C, pascal etc) and object oriented\n",
    "(like C++,Java) features. Hence we can get benefits of both like security and reusability etc\n",
    "\n",
    "8. **Interpreted:**\n",
    "\n",
    "We are not required to compile Python programs explcitly. Internally Python interpreter\n",
    "will take care that compilation.\n",
    "If compilation fails interpreter raised syntax errors. Once compilation success then PVM\n",
    "(Python Virtual Machine) is responsible to execute.\n",
    "\n",
    "9. **Extensible:**\n",
    "\n",
    "We can use other language programs in Python.\n",
    "\n",
    "The main advantages of this approach are:-\n",
    "    1. We can use already existing legacy non-Python code\n",
    "    2. We can improve performance of the application\n",
    "\n",
    "10. **Embedded:**\n",
    "\n",
    "We can use Python programs in any other language programs.\n",
    "i.e we can embedd Python programs anywhere.\n",
    "\n",
    "11. **Extensive Library:**\n",
    "\n",
    "Python has a rich built-in library.\n",
    "Being a programmer we can use this library directly and we are not responsible to\n",
    "implement the functionality.\n",
    "etc..."
   ]
  },
  {
   "cell_type": "markdown",
   "metadata": {},
   "source": [
    "### 4. Limitations of Python:- (where we cant use python)"
   ]
  },
  {
   "cell_type": "markdown",
   "metadata": {},
   "source": [
    "1. Not using for mobile Applications\n",
    "2. Python is slower than C and C++. So the time taken to execute a task by python is more than compared to C and C++\n",
    "3. As we know python is flexible of data-types so memory consumption is also high. So due to this python is not good choice for memory intensive task.\n",
    "4. Code protecting is difficult.\n",
    "5. Python is not good for High graphic 3D game take lot of CPU."
   ]
  },
  {
   "cell_type": "markdown",
   "metadata": {},
   "source": [
    "### 5. Flavors of Python"
   ]
  },
  {
   "cell_type": "markdown",
   "metadata": {},
   "source": [
    "1. **CPython:** It is the standard flavor of Python. It can be used to work with C lanugage Applications\n",
    "2. **Jython or JPython:** It is for Java Applications. It can run on JVM\n",
    "3. **IronPython:** It is for C #.Net platform\n",
    "4. **PyPy:** The main advantage of PyPy is performance will be improved because JIT compiler is available inside PVM.\n",
    "5. **RubyPython** For Ruby Platforms\n",
    "6. **AnacondaPython** It is specially designed for handling large volume of data processing, ML, DA, DV, AF. etc"
   ]
  },
  {
   "cell_type": "markdown",
   "metadata": {},
   "source": [
    "### 6. Python Editors"
   ]
  },
  {
   "cell_type": "markdown",
   "metadata": {},
   "source": [
    "1. **Python ILDE** (i,e form python software it self)\n",
    "2. **AnacondaPython** (Jupyter Notebook, Spyder)\n",
    "3. **PyCharm Community Versions** (JetBrains)\n",
    "4. **WingPro**\n",
    "5. **VS code** (Microsoft)\n",
    "\t(python, java, c, c++, Ruby, pascal, Cobalt, Swift, ....)"
   ]
  },
  {
   "cell_type": "markdown",
   "metadata": {},
   "source": [
    "### 7. Text Editors"
   ]
  },
  {
   "cell_type": "markdown",
   "metadata": {},
   "source": [
    "1. **Sublime Text3**\n",
    "2. **Brackets**\n",
    "3. **Notepad**\n",
    "4. **Notepad++**\n",
    "5. **Atom**\n",
    "6. **Vim**\n",
    "7. **UltraEdit**\n",
    "8. **Kite** Free auto script completer for text editors"
   ]
  },
  {
   "cell_type": "markdown",
   "metadata": {},
   "source": [
    "### 8. Python Versions"
   ]
  },
  {
   "cell_type": "markdown",
   "metadata": {},
   "source": [
    "* Python 1.0V introduced in Jan 1994\n",
    "* Python 2.0V introduced in October 2000\n",
    "* Python 3.0V introduced in December 2008\n",
    "* Note: Python 3 wont provide backward compatibility to Python2 i.e there is no guarantee that Python2 programs will run in Python3.\n",
    "* Current versions python ILDE as per 28.07.2020\n",
    "* Python 3.8.5\t|\tPython 2.7.18"
   ]
  },
  {
   "cell_type": "markdown",
   "metadata": {},
   "source": [
    "### 9. Python Installation Process"
   ]
  },
  {
   "cell_type": "markdown",
   "metadata": {},
   "source": [
    "1. Go to python org site (https://www.python.org/downloads/)  == 3. version\n",
    "2. Just select of the the latest version of python and download it (it may be 26 to 27 MB)\n",
    "3. After download the .exe file double click to Install\n",
    "4. And remember to click the check box **[ADD PYTHON TO PATH]** which is mandatory to do\n",
    "5. After that click next, next, next....\n",
    "6. Your python will be Install clearly \n",
    "7. open windows and type ILDE python intractive mode will open"
   ]
  },
  {
   "cell_type": "markdown",
   "metadata": {},
   "source": [
    "#### Note"
   ]
  },
  {
   "cell_type": "markdown",
   "metadata": {},
   "source": [
    "This is for those who dont have laptops\n",
    "1. open playstore\n",
    "2. Search for PyDroid3 #apk\n",
    "3. Click Install"
   ]
  }
 ],
 "metadata": {
  "kernelspec": {
   "display_name": "Python 3",
   "language": "python",
   "name": "python3"
  },
  "language_info": {
   "codemirror_mode": {
    "name": "ipython",
    "version": 3
   },
   "file_extension": ".py",
   "mimetype": "text/x-python",
   "name": "python",
   "nbconvert_exporter": "python",
   "pygments_lexer": "ipython3",
   "version": "3.7.6"
  }
 },
 "nbformat": 4,
 "nbformat_minor": 4
}
