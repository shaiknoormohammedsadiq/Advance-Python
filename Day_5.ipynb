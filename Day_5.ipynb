{
 "cells": [
  {
   "cell_type": "code",
   "execution_count": 7,
   "metadata": {},
   "outputs": [
    {
     "name": "stdout",
     "output_type": "stream",
     "text": [
      "Enter Number: 45\n",
      "PostiveZero Number\n"
     ]
    }
   ],
   "source": [
    "# if else Example-2\n",
    "# Check given number is a Positive OR Not\n",
    "t1 = input(\"Enter Number: \") \n",
    "t2 = int(t1)\n",
    "if (t2 > 0):\n",
    "    print(\"Postive\",end= '')\n",
    "    if t2<0:\n",
    "        print(\"Negative\",end ='')\n",
    "    else:\n",
    "        print(\"Zero\",end='')\n",
    "print(' Number')"
   ]
  },
  {
   "cell_type": "code",
   "execution_count": 14,
   "metadata": {},
   "outputs": [
    {
     "name": "stdout",
     "output_type": "stream",
     "text": [
      "one\n",
      "two15444.515451 2 3 4 5\n"
     ]
    }
   ],
   "source": [
    "print(\"one\")# print() default executed \"\\n\" at the end of print\n",
    "print('two',end= \"15444.51545\")\n"
   ]
  },
  {
   "cell_type": "code",
   "execution_count": 21,
   "metadata": {},
   "outputs": [
    {
     "name": "stdout",
     "output_type": "stream",
     "text": [
      "1 <---> 2 <---> 3 <---> 4 <---> 5\n"
     ]
    }
   ],
   "source": [
    "print('1','2','3','4','5',sep = ' <---> ')"
   ]
  },
  {
   "cell_type": "code",
   "execution_count": 22,
   "metadata": {},
   "outputs": [],
   "source": [
    "# end -> perform operation at end of print()\n",
    "# sep -> perform operation b/w values with in print()"
   ]
  },
  {
   "cell_type": "code",
   "execution_count": 28,
   "metadata": {},
   "outputs": [
    {
     "name": "stdout",
     "output_type": "stream",
     "text": [
      "one<-I am Sep->two<-I am End->"
     ]
    }
   ],
   "source": [
    "print(\"one\" ,\"two\" ,sep ='<-I am Sep->',end=\"<-I am End->\")"
   ]
  },
  {
   "cell_type": "code",
   "execution_count": 33,
   "metadata": {},
   "outputs": [
    {
     "name": "stdout",
     "output_type": "stream",
     "text": [
      "\n"
     ]
    }
   ],
   "source": [
    "print(end=\"\\n\")"
   ]
  },
  {
   "cell_type": "code",
   "execution_count": 36,
   "metadata": {},
   "outputs": [
    {
     "name": "stdout",
     "output_type": "stream",
     "text": [
      "Which number U Expected? 45\n",
      "U Win...\n"
     ]
    }
   ],
   "source": [
    "# if elif else Example\n",
    "# Expected Value\n",
    "final = 45\n",
    "check = int(input(\"Which number U Expected? \"))\n",
    "if check == final:\n",
    "    print('U Win...')\n",
    "elif check > final:\n",
    "    print('Not Higest')\n",
    "else:\n",
    "    print('Not Lowest ')"
   ]
  },
  {
   "cell_type": "code",
   "execution_count": 46,
   "metadata": {},
   "outputs": [
    {
     "name": "stdout",
     "output_type": "stream",
     "text": [
      "Enter your Grade= -46\n",
      "Failing Grade...\n"
     ]
    }
   ],
   "source": [
    "# Nested if Example\n",
    "# Grade Ex\n",
    "\n",
    "grade = int(input(\"Enter your Grade= \"))\n",
    "if grade >= 60:\n",
    "    print('Passing Grade of:')\n",
    "    if grade >= 90:\n",
    "        print(\"A\")\n",
    "    elif grade >= 80:\n",
    "        print('B')\n",
    "    elif grade >= 70:\n",
    "        print('C')\n",
    "    elif grade >= 60:\n",
    "        print('D')\n",
    "else:\n",
    "    print('Failing Grade...')\n"
   ]
  },
  {
   "cell_type": "code",
   "execution_count": 49,
   "metadata": {},
   "outputs": [
    {
     "name": "stdout",
     "output_type": "stream",
     "text": [
      "Enter your Grade= 101\n",
      "Please Enter Valid Grade\n"
     ]
    }
   ],
   "source": [
    "# Nested if Example\n",
    "# Grade Ex\n",
    "\n",
    "grade = int(input(\"Enter your Grade= \"))\n",
    "if grade >= 0 and grade <= 100:\n",
    "    if grade >= 60:\n",
    "        print('Passing Grade of:')\n",
    "        if grade >= 90:\n",
    "            print(\"A\")\n",
    "        elif grade >= 80:\n",
    "            print('B')\n",
    "        elif grade >= 70:\n",
    "            print('C')\n",
    "        elif grade >= 60:\n",
    "            print('D')\n",
    "    else:\n",
    "        print('Failing Grade...')\n",
    "else:\n",
    "    print(\"Please Enter Valid Grade\")"
   ]
  },
  {
   "cell_type": "markdown",
   "metadata": {},
   "source": [
    "## Loops/Iterations\n",
    "### for , while\n",
    "#### C Lan for Synatx:-\n",
    "- ---------\n",
    "for(intialize, condition, increment/decrement)\n",
    "\n",
    "#### python for Syntax:-\n",
    "- ----------\n",
    " for have minmum 1 Arg , maxmum 3 Arg\n",
    " for(Arg1) -> (default =0 ,Condition,  default incremnet by 1)\n",
    " for(Arg1,Arg2) -> (intialization, Condition,  default incremnet by 1)\n",
    " for(Arg1,Ag2,Ag3) -> (intial, condi, stepcount)"
   ]
  },
  {
   "cell_type": "code",
   "execution_count": 53,
   "metadata": {},
   "outputs": [
    {
     "name": "stdout",
     "output_type": "stream",
     "text": [
      "0,1,2,3,4,5,6,7,8,9,10,"
     ]
    }
   ],
   "source": [
    "# print  10 numbers\n",
    "for i in range(10+1): #n-1\n",
    "    print(i, end=',')"
   ]
  },
  {
   "cell_type": "code",
   "execution_count": 55,
   "metadata": {},
   "outputs": [
    {
     "name": "stdout",
     "output_type": "stream",
     "text": [
      "1 2 3 4 5 6 7 8 9 10 "
     ]
    }
   ],
   "source": [
    "for j in range(1,5+2+3+1):\n",
    "    print(j,end=' ')"
   ]
  },
  {
   "cell_type": "code",
   "execution_count": 62,
   "metadata": {},
   "outputs": [
    {
     "name": "stdout",
     "output_type": "stream",
     "text": [
      "5\n",
      "4\n",
      "3\n",
      "2\n"
     ]
    }
   ],
   "source": [
    "for mn in range(5,1,-1):\n",
    "    print(mn)"
   ]
  },
  {
   "cell_type": "code",
   "execution_count": 66,
   "metadata": {},
   "outputs": [
    {
     "name": "stdout",
     "output_type": "stream",
     "text": [
      "1 5 9 13 17 21 25 29 33 37 41 45 49 53 57 61 65 69 73 77 81 85 89 93 97 101 105 109 113 117 121 125 129 133 137 141 145 149 153 157 161 165 169 173 177 181 185 189 193 197 "
     ]
    }
   ],
   "source": [
    "for m in range(1,200,4):\n",
    "    print(m , end =' ')"
   ]
  },
  {
   "cell_type": "code",
   "execution_count": 67,
   "metadata": {},
   "outputs": [
    {
     "name": "stdout",
     "output_type": "stream",
     "text": [
      "20\t19\t18\t17\t16\t15\t14\t13\t12\t11\t10\t9\t8\t7\t6\t5\t4\t3\t2\t"
     ]
    }
   ],
   "source": [
    "# decresing numbers from 20 to 2\n",
    "for i in range(20,1,-1):\n",
    "    print(i,end = \"\\t\")"
   ]
  },
  {
   "cell_type": "code",
   "execution_count": 71,
   "metadata": {},
   "outputs": [
    {
     "name": "stdout",
     "output_type": "stream",
     "text": [
      "m a r a t i "
     ]
    }
   ],
   "source": [
    "# print string index by index using for loop\n",
    "language = 'marati'\n",
    "for char in range(len(language)):\n",
    "    print(language[char], end = ' ')"
   ]
  },
  {
   "cell_type": "code",
   "execution_count": 74,
   "metadata": {},
   "outputs": [
    {
     "name": "stdout",
     "output_type": "stream",
     "text": [
      "a\n",
      "b\n",
      "c\n",
      "d\n",
      "e\n",
      "f\n",
      "g\n",
      "h\n",
      "i\n",
      "j\n",
      "k\n",
      "l\n",
      "m\n",
      "n\n",
      "o\n",
      "p\n",
      ".\n",
      ".\n",
      ".\n"
     ]
    }
   ],
   "source": [
    "# for can working without range() using iterable data(data have indexing)\n",
    "for a in \"abcdefghijklmnop...\":\n",
    "    print(a)"
   ]
  },
  {
   "cell_type": "code",
   "execution_count": null,
   "metadata": {},
   "outputs": [],
   "source": []
  }
 ],
 "metadata": {
  "kernelspec": {
   "display_name": "Python 3",
   "language": "python",
   "name": "python3"
  },
  "language_info": {
   "codemirror_mode": {
    "name": "ipython",
    "version": 3
   },
   "file_extension": ".py",
   "mimetype": "text/x-python",
   "name": "python",
   "nbconvert_exporter": "python",
   "pygments_lexer": "ipython3",
   "version": "3.7.6"
  }
 },
 "nbformat": 4,
 "nbformat_minor": 4
}
