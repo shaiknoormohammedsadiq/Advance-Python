{
 "cells": [
  {
   "cell_type": "markdown",
   "metadata": {},
   "source": [
    "## Strings"
   ]
  },
  {
   "cell_type": "code",
   "execution_count": 4,
   "metadata": {},
   "outputs": [
    {
     "name": "stdout",
     "output_type": "stream",
     "text": [
      "\n",
      "\n",
      "\n",
      "<class 'str'>\n"
     ]
    }
   ],
   "source": [
    "# Declare Strings using '' OR \"\" \n",
    "# Declare Empty String\n",
    "a = ''\n",
    "print(a)\n",
    "b = \"\"\n",
    "print(b)\n",
    "c =  str()\n",
    "print(c)\n",
    "print(type(a))"
   ]
  },
  {
   "cell_type": "markdown",
   "metadata": {},
   "source": [
    "# String Index(Left to Right and Right to Left)\n",
    "- H   e   l   l   o\n",
    "- 0   1   2   3   4  --> Left to Right\n",
    "- -5 -4  -3  -2  -1  --> Right to Left\n"
   ]
  },
  {
   "cell_type": "code",
   "execution_count": 9,
   "metadata": {},
   "outputs": [
    {
     "name": "stdout",
     "output_type": "stream",
     "text": [
      "narayana\n"
     ]
    },
    {
     "data": {
      "text/plain": [
       "'car'"
      ]
     },
     "execution_count": 9,
     "metadata": {},
     "output_type": "execute_result"
    }
   ],
   "source": [
    "name = 'narayana'\n",
    "print(name)\n",
    "name\n",
    "thing = \"car\"\n",
    "thing"
   ]
  },
  {
   "cell_type": "code",
   "execution_count": 14,
   "metadata": {},
   "outputs": [
    {
     "name": "stdout",
     "output_type": "stream",
     "text": [
      "n\n",
      "n\n"
     ]
    }
   ],
   "source": [
    "# Index syntax for print single index -->variblename[index]\n",
    "print(name[0])\n",
    "print(name[-8])\n",
    "#print(name[10])"
   ]
  },
  {
   "cell_type": "code",
   "execution_count": 19,
   "metadata": {},
   "outputs": [
    {
     "name": "stdout",
     "output_type": "stream",
     "text": [
      "narayanacar\n",
      "narayanahello\n"
     ]
    }
   ],
   "source": [
    "# Concatination (+)\n",
    "print(name + thing)\n",
    "#print(name+123) # Wrong Concatinate\n",
    "print(name+'hello')"
   ]
  },
  {
   "cell_type": "code",
   "execution_count": 22,
   "metadata": {},
   "outputs": [
    {
     "data": {
      "text/plain": [
       "'narayana narayana narayana narayana narayana '"
      ]
     },
     "execution_count": 22,
     "metadata": {},
     "output_type": "execute_result"
    }
   ],
   "source": [
    "# Duplication (*)\n",
    "(name+\" \")*5"
   ]
  },
  {
   "cell_type": "code",
   "execution_count": 23,
   "metadata": {},
   "outputs": [
    {
     "ename": "TypeError",
     "evalue": "unsupported operand type(s) for /: 'str' and 'int'",
     "output_type": "error",
     "traceback": [
      "\u001b[1;31m---------------------------------------------------------------------------\u001b[0m",
      "\u001b[1;31mTypeError\u001b[0m                                 Traceback (most recent call last)",
      "\u001b[1;32m<ipython-input-23-cb53cc02a127>\u001b[0m in \u001b[0;36m<module>\u001b[1;34m\u001b[0m\n\u001b[1;32m----> 1\u001b[1;33m \u001b[1;34m\"hi\"\u001b[0m\u001b[1;33m*\u001b[0m\u001b[1;36m2\u001b[0m\u001b[1;33m/\u001b[0m\u001b[1;36m2\u001b[0m\u001b[1;33m\u001b[0m\u001b[1;33m\u001b[0m\u001b[0m\n\u001b[0m",
      "\u001b[1;31mTypeError\u001b[0m: unsupported operand type(s) for /: 'str' and 'int'"
     ]
    }
   ],
   "source": [
    "\"hi\"*2/2"
   ]
  },
  {
   "cell_type": "code",
   "execution_count": 25,
   "metadata": {},
   "outputs": [
    {
     "data": {
      "text/plain": [
       "'hi'"
      ]
     },
     "execution_count": 25,
     "metadata": {},
     "output_type": "execute_result"
    }
   ],
   "source": [
    "\"hi\"*(2//2)"
   ]
  },
  {
   "cell_type": "code",
   "execution_count": 26,
   "metadata": {},
   "outputs": [
    {
     "data": {
      "text/plain": [
       "'hello'"
      ]
     },
     "execution_count": 26,
     "metadata": {},
     "output_type": "execute_result"
    }
   ],
   "source": [
    "\"hello\"*int(2/2)"
   ]
  },
  {
   "cell_type": "code",
   "execution_count": 32,
   "metadata": {},
   "outputs": [
    {
     "name": "stdout",
     "output_type": "stream",
     "text": [
      "ython programming\n",
      "tho\n",
      "yhn\n",
      "noht\n",
      "\n",
      "python programming\n"
     ]
    }
   ],
   "source": [
    "# Slicing (:)\n",
    "# [intialize:condition:increment/Decrement]\n",
    "# min 1 Arg  -->[intial]\n",
    "# 2 Arg      -->[intial : condition]\n",
    "# max 3 Arg  -->[intial : cond : incre/decre]\n",
    "temp = \"python programming\"\n",
    "print(temp[1:])\n",
    "print(temp[2:5])# n-1\n",
    "print(temp[1:6:2])# increment\n",
    "print(temp[5:1:-1])# decrement\n",
    "print(temp[5:2:1])\n",
    "print(temp[0:500]) # slicing not returns index out of range Errors"
   ]
  },
  {
   "cell_type": "code",
   "execution_count": 35,
   "metadata": {},
   "outputs": [
    {
     "name": "stdout",
     "output_type": "stream",
     "text": [
      "C:\\Users\\NARAYANA\\Desktop\n"
     ]
    }
   ],
   "source": [
    "# Overcome Escape Sequence\n",
    "path = \"C:\\\\Users\\\\NARAYANA\\\\Desktop\\\\\"\n",
    "path = \"C:/Users/NARAYANA/Desktop/\"\n",
    "path = r\"C:\\Users\\NARAYANA\\Desktop\" # r means raw path\n",
    "print(path)"
   ]
  },
  {
   "cell_type": "code",
   "execution_count": 38,
   "metadata": {},
   "outputs": [
    {
     "name": "stdout",
     "output_type": "stream",
     "text": [
      "['__add__', '__class__', '__contains__', '__delattr__', '__dir__', '__doc__', '__eq__', '__format__', '__ge__', '__getattribute__', '__getitem__', '__getnewargs__', '__gt__', '__hash__', '__init__', '__init_subclass__', '__iter__', '__le__', '__len__', '__lt__', '__mod__', '__mul__', '__ne__', '__new__', '__reduce__', '__reduce_ex__', '__repr__', '__rmod__', '__rmul__', '__setattr__', '__sizeof__', '__str__', '__subclasshook__', 'capitalize', 'casefold', 'center', 'count', 'encode', 'endswith', 'expandtabs', 'find', 'format', 'format_map', 'index', 'isalnum', 'isalpha', 'isascii', 'isdecimal', 'isdigit', 'isidentifier', 'islower', 'isnumeric', 'isprintable', 'isspace', 'istitle', 'isupper', 'join', 'ljust', 'lower', 'lstrip', 'maketrans', 'partition', 'replace', 'rfind', 'rindex', 'rjust', 'rpartition', 'rsplit', 'rstrip', 'split', 'splitlines', 'startswith', 'strip', 'swapcase', 'title', 'translate', 'upper', 'zfill']\n"
     ]
    }
   ],
   "source": [
    "# String Methods\n",
    "#print(dir(path))\n",
    "#print(dir(\"apssdc\"))\n",
    "print(dir(str))"
   ]
  },
  {
   "cell_type": "code",
   "execution_count": 39,
   "metadata": {},
   "outputs": [],
   "source": [
    "# Syntax of method\n",
    "# variblename.methodname(Arg1,Arg2,...)\n",
    "# variblevalue.methodname(Arg1,Arg2,....)"
   ]
  },
  {
   "cell_type": "code",
   "execution_count": 40,
   "metadata": {},
   "outputs": [],
   "source": [
    "# String is a immutable(not possible update/delete) data type()"
   ]
  },
  {
   "cell_type": "code",
   "execution_count": 45,
   "metadata": {},
   "outputs": [
    {
     "name": "stdout",
     "output_type": "stream",
     "text": [
      "APSSDC\n",
      "NAME\n",
      "coding\n",
      "don\n",
      "monday\n",
      "RAMU SRINU SANA KIRAN\n"
     ]
    }
   ],
   "source": [
    "print(\"apssdc\".upper())\n",
    "print(\"NAME\".upper())\n",
    "print(\"coding\".lower())\n",
    "print('DON'.lower())\n",
    "print(('monday'.upper()).lower())\n",
    "names =\"ramu srinu sana kiran\"\n",
    "print(names.upper())"
   ]
  },
  {
   "cell_type": "code",
   "execution_count": 49,
   "metadata": {},
   "outputs": [
    {
     "name": "stdout",
     "output_type": "stream",
     "text": [
      "False\n",
      "True\n",
      "False\n"
     ]
    }
   ],
   "source": [
    "# isupper()\n",
    "print(names.isupper())\n",
    "print((names.upper()).isupper())\n",
    "print('laptop'.isupper())"
   ]
  },
  {
   "cell_type": "code",
   "execution_count": 50,
   "metadata": {},
   "outputs": [
    {
     "name": "stdout",
     "output_type": "stream",
     "text": [
      "True\n"
     ]
    }
   ],
   "source": [
    "# islower()\n",
    "print(names.islower())"
   ]
  },
  {
   "cell_type": "code",
   "execution_count": 51,
   "metadata": {},
   "outputs": [
    {
     "data": {
      "text/plain": [
       "'ramu srinu ramya kiran'"
      ]
     },
     "execution_count": 51,
     "metadata": {},
     "output_type": "execute_result"
    }
   ],
   "source": [
    "# replace()\n",
    "names.replace('sana','ramya')\n"
   ]
  },
  {
   "cell_type": "code",
   "execution_count": 54,
   "metadata": {},
   "outputs": [
    {
     "data": {
      "text/plain": [
       "'grammer'"
      ]
     },
     "execution_count": 54,
     "metadata": {},
     "output_type": "execute_result"
    }
   ],
   "source": [
    "\"grammer\".replace('q','z')"
   ]
  },
  {
   "cell_type": "code",
   "execution_count": 60,
   "metadata": {},
   "outputs": [
    {
     "name": "stdout",
     "output_type": "stream",
     "text": [
      "ramu srinu sana kiran\n",
      "['ramu', 'srinu', 'sana', 'kiran']\n",
      "['ramu is a d', 'ct', 'r']\n",
      "['n', 'r', 'y', 'n', ' is ', ' good boy']\n",
      "['n', 'r', 'yana is a good boy']\n",
      "['n', 'r', 'y', 'n', ' is ', ' good boy']\n"
     ]
    }
   ],
   "source": [
    "# split() #split returns list O/P\n",
    "print(names)\n",
    "print(names.split())\n",
    "print(\"ramu is a doctor\".split('o'))\n",
    "print(\"narayana is a good boy\".split('a'))\n",
    "print(\"narayana is a good boy\".split('a',2))\n",
    "print(\"narayana is a good boy\".split('a',100))"
   ]
  },
  {
   "cell_type": "code",
   "execution_count": 61,
   "metadata": {},
   "outputs": [
    {
     "name": "stdout",
     "output_type": "stream",
     "text": [
      "['ramu', 'srinu', 'sana', 'kiran']\n",
      "['ramu is a d', 'ct', 'r']\n",
      "['n', 'r', 'y', 'n', ' is ', ' good boy']\n",
      "['narayan', ' is ', ' good boy']\n",
      "['n', 'r', 'y', 'n', ' is ', ' good boy']\n"
     ]
    }
   ],
   "source": [
    "# rsplit() #Right split returns list O/P\n",
    "print(names.rsplit())\n",
    "print(\"ramu is a doctor\".rsplit('o'))\n",
    "print(\"narayana is a good boy\".rsplit('a'))\n",
    "print(\"narayana is a good boy\".rsplit('a',2))\n",
    "print(\"narayana is a good boy\".rsplit('a',100))"
   ]
  },
  {
   "cell_type": "code",
   "execution_count": 67,
   "metadata": {},
   "outputs": [
    {
     "name": "stdout",
     "output_type": "stream",
     "text": [
      "2\n",
      "3\n",
      "4\n",
      "-1\n"
     ]
    }
   ],
   "source": [
    "# find()\n",
    "print(\"naveen\".find('v'))\n",
    "print(\"naveen\".find('e'))\n",
    "print(\"naveen\".rfind('e')) # Right find\n",
    "print('vishnu'.find('z'))"
   ]
  },
  {
   "cell_type": "code",
   "execution_count": 69,
   "metadata": {},
   "outputs": [
    {
     "name": "stdout",
     "output_type": "stream",
     "text": [
      "1\n"
     ]
    },
    {
     "ename": "ValueError",
     "evalue": "substring not found",
     "output_type": "error",
     "traceback": [
      "\u001b[1;31m---------------------------------------------------------------------------\u001b[0m",
      "\u001b[1;31mValueError\u001b[0m                                Traceback (most recent call last)",
      "\u001b[1;32m<ipython-input-69-1f506c133959>\u001b[0m in \u001b[0;36m<module>\u001b[1;34m\u001b[0m\n\u001b[0;32m      1\u001b[0m \u001b[1;31m# index()\u001b[0m\u001b[1;33m\u001b[0m\u001b[1;33m\u001b[0m\u001b[1;33m\u001b[0m\u001b[0m\n\u001b[0;32m      2\u001b[0m \u001b[0mprint\u001b[0m\u001b[1;33m(\u001b[0m\u001b[1;34m\"shiva\"\u001b[0m\u001b[1;33m.\u001b[0m\u001b[0mindex\u001b[0m\u001b[1;33m(\u001b[0m\u001b[1;34m'h'\u001b[0m\u001b[1;33m)\u001b[0m\u001b[1;33m)\u001b[0m\u001b[1;33m\u001b[0m\u001b[1;33m\u001b[0m\u001b[0m\n\u001b[1;32m----> 3\u001b[1;33m \u001b[0mprint\u001b[0m\u001b[1;33m(\u001b[0m\u001b[1;34m\"shiva\"\u001b[0m\u001b[1;33m.\u001b[0m\u001b[0mindex\u001b[0m\u001b[1;33m(\u001b[0m\u001b[1;34m'x'\u001b[0m\u001b[1;33m)\u001b[0m\u001b[1;33m)\u001b[0m\u001b[1;33m\u001b[0m\u001b[1;33m\u001b[0m\u001b[0m\n\u001b[0m",
      "\u001b[1;31mValueError\u001b[0m: substring not found"
     ]
    }
   ],
   "source": [
    "# index()\n",
    "print(\"shiva\".index('h'))\n",
    "print(\"shiva\".index('x'))"
   ]
  },
  {
   "cell_type": "code",
   "execution_count": 71,
   "metadata": {},
   "outputs": [
    {
     "name": "stdout",
     "output_type": "stream",
     "text": [
      "first line\n",
      "second line \n",
      "trird line\n",
      "...\n",
      "..\n",
      "\n",
      "\n",
      "one\n",
      "two\n",
      "three\n",
      "\n"
     ]
    }
   ],
   "source": [
    "# Declare Multi line String\n",
    "paragraph = \"\"\"first line\n",
    "second line \n",
    "trird line\n",
    "...\n",
    "..\n",
    "\"\"\"\n",
    "a1 ='''\n",
    "one\n",
    "two\n",
    "three\n",
    "'''\n",
    "print(paragraph)\n",
    "print(a1)"
   ]
  },
  {
   "cell_type": "code",
   "execution_count": 73,
   "metadata": {},
   "outputs": [
    {
     "name": "stdout",
     "output_type": "stream",
     "text": [
      "['', 'one', 'two', 'three']\n",
      "['first line', 'second line ', 'trird line', '...', '..']\n"
     ]
    }
   ],
   "source": [
    "# splitlines()\n",
    "print(a1.splitlines())\n",
    "print(paragraph.splitlines())"
   ]
  },
  {
   "cell_type": "code",
   "execution_count": 75,
   "metadata": {},
   "outputs": [
    {
     "name": "stdout",
     "output_type": "stream",
     "text": [
      "False\n",
      "True\n"
     ]
    }
   ],
   "source": [
    "# isdigit()\n",
    "print(\"name122ravi\".isdigit())\n",
    "print(\"satya1\"[-1].isdigit())"
   ]
  },
  {
   "cell_type": "code",
   "execution_count": 76,
   "metadata": {},
   "outputs": [
    {
     "name": "stdout",
     "output_type": "stream",
     "text": [
      "b\n",
      "z\n"
     ]
    }
   ],
   "source": [
    "a=\"abc\" # single line string\n",
    "b = \"\"\"aaa #multi line string\n",
    "bbb\n",
    "ccc\n",
    "ddd\n",
    "\"\"\"\n",
    "print(a[1])\n",
    "print(\"xyz\"[-1])"
   ]
  },
  {
   "cell_type": "code",
   "execution_count": 79,
   "metadata": {},
   "outputs": [
    {
     "name": "stdout",
     "output_type": "stream",
     "text": [
      "['abc', 'bbb']\n",
      "['aaa', '#multi', 'line', 'string', 'bbb', 'ccc', 'ddd']\n"
     ]
    }
   ],
   "source": [
    "a=\"abc \\n bbb\" # single line string\n",
    "b = \"\"\"aaa #multi line string\n",
    "bbb\n",
    "ccc\n",
    "ddd\n",
    "\"\"\"\n",
    "print(a.split())\n",
    "print(b.split())"
   ]
  },
  {
   "cell_type": "code",
   "execution_count": 82,
   "metadata": {},
   "outputs": [
    {
     "name": "stdout",
     "output_type": "stream",
     "text": [
      "['1', '2', '3', '4', '5', '6', '7']\n",
      "['1', '2', '3', '4', '5', '6', '7']\n"
     ]
    }
   ],
   "source": [
    "digits =\"1 2 3 4 5 6 7\"\n",
    "print(digits.split())\n",
    "digits =\"1,2,3,4,5,6,7\"\n",
    "print(digits.split(','))"
   ]
  }
 ],
 "metadata": {
  "kernelspec": {
   "display_name": "Python 3",
   "language": "python",
   "name": "python3"
  },
  "language_info": {
   "codemirror_mode": {
    "name": "ipython",
    "version": 3
   },
   "file_extension": ".py",
   "mimetype": "text/x-python",
   "name": "python",
   "nbconvert_exporter": "python",
   "pygments_lexer": "ipython3",
   "version": "3.7.6"
  }
 },
 "nbformat": 4,
 "nbformat_minor": 4
}
