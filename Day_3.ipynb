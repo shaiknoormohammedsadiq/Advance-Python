{
 "cells": [
  {
   "cell_type": "markdown",
   "metadata": {},
   "source": [
    "# Advance Python by IQRA Learnings"
   ]
  },
  {
   "cell_type": "markdown",
   "metadata": {},
   "source": [
    "## By Noor Mohammed Sadiq Shaik"
   ]
  },
  {
   "cell_type": "markdown",
   "metadata": {},
   "source": [
    "# Day _ 03"
   ]
  },
  {
   "cell_type": "markdown",
   "metadata": {},
   "source": [
    "# * Functions\n",
    "# * Elements of Flow Control Statements\n",
    "# * Range function using for loop"
   ]
  },
  {
   "cell_type": "markdown",
   "metadata": {},
   "source": [
    "### Functions"
   ]
  },
  {
   "cell_type": "markdown",
   "metadata": {},
   "source": [
    "1. What is a function?\n",
    "2. How can we define a finction & how can we call the function?\n",
    "3. Some programs on functions?"
   ]
  },
  {
   "cell_type": "markdown",
   "metadata": {},
   "source": [
    "* You’re already familiar with the print(), input(), & len() functions from the previous chapters.\n",
    "\n",
    "* Python provides several builtin functions like these, but you can also write your own functions.\n",
    "\n",
    "* A function is like a mini-program within a program.\n",
    "\n",
    "* A function is like a user defined code as per his requriments in python rules\n"
   ]
  },
  {
   "cell_type": "markdown",
   "metadata": {},
   "source": [
    "**Defining our own function**"
   ]
  },
  {
   "cell_type": "markdown",
   "metadata": {},
   "source": [
    "* The def keyword\n",
    "* A Name_of_the_Function (should be starts with a str)\n",
    "* A colon\n",
    "* Starting on the next line, an indented block of code (called the if clause)"
   ]
  },
  {
   "cell_type": "code",
   "execution_count": 1,
   "metadata": {},
   "outputs": [],
   "source": [
    "def hello():\n",
    "    print('Hello this is my inner program')\n",
    "    print('Second line')\n",
    "    print('Third line')"
   ]
  },
  {
   "cell_type": "markdown",
   "metadata": {},
   "source": [
    "* **Where my hello( ) function has three lines of code**\n",
    "* **Now if i wants to call my all three lines of code**"
   ]
  },
  {
   "cell_type": "code",
   "execution_count": 2,
   "metadata": {},
   "outputs": [
    {
     "name": "stdout",
     "output_type": "stream",
     "text": [
      "Hello this is my inner program\n",
      "Second line\n",
      "Third line\n"
     ]
    }
   ],
   "source": [
    "# Calling the function name\n",
    "hello()"
   ]
  },
  {
   "cell_type": "code",
   "execution_count": 3,
   "metadata": {},
   "outputs": [],
   "source": [
    "def iqra():\n",
    "    x = (1,2,3,4,5,6,7,8,9)\n",
    "    print(x)\n",
    "    print(x[0:5])"
   ]
  },
  {
   "cell_type": "code",
   "execution_count": 4,
   "metadata": {},
   "outputs": [
    {
     "name": "stdout",
     "output_type": "stream",
     "text": [
      "(1, 2, 3, 4, 5, 6, 7, 8, 9)\n",
      "(1, 2, 3, 4, 5)\n"
     ]
    }
   ],
   "source": [
    "iqra()"
   ]
  },
  {
   "cell_type": "markdown",
   "metadata": {},
   "source": [
    "**Like we can made our own functions in python by using def keyword**"
   ]
  },
  {
   "cell_type": "markdown",
   "metadata": {},
   "source": [
    "**Now lets see how can we call a function with passing perameters**"
   ]
  },
  {
   "cell_type": "code",
   "execution_count": 11,
   "metadata": {},
   "outputs": [],
   "source": [
    "def name(x):\n",
    "    print('Hello'+ ' ' + x)   # Where we can pass this x in our function"
   ]
  },
  {
   "cell_type": "code",
   "execution_count": 12,
   "metadata": {},
   "outputs": [
    {
     "name": "stdout",
     "output_type": "stream",
     "text": [
      "Hello IQRA\n"
     ]
    }
   ],
   "source": [
    "name('IQRA')"
   ]
  },
  {
   "cell_type": "markdown",
   "metadata": {},
   "source": [
    "**Like wise we can pass the perameters in functions**"
   ]
  },
  {
   "cell_type": "code",
   "execution_count": 14,
   "metadata": {},
   "outputs": [
    {
     "name": "stdout",
     "output_type": "stream",
     "text": [
      "Hello Shaik\n"
     ]
    }
   ],
   "source": [
    "name('Shaik')"
   ]
  },
  {
   "cell_type": "markdown",
   "metadata": {},
   "source": [
    "## Elements of Flow Control Statements"
   ]
  },
  {
   "cell_type": "markdown",
   "metadata": {},
   "source": [
    "1. Conditions:-\n",
    "    * condition is just a specific name in the context of flow control statement\n",
    "\n",
    "2. Blocks of Code:-\n",
    "    * start, end, condition, if, else, elif, lines, etc\n",
    "    \n",
    "3. Flow Control Statements\n",
    "    * Different Flow Control Statments are"
   ]
  },
  {
   "cell_type": "markdown",
   "metadata": {},
   "source": [
    "* **IF Statement**\n",
    "* **ELSE Statement**\n",
    "* **Elif Statement**\n",
    "* **While Loop**"
   ]
  },
  {
   "cell_type": "markdown",
   "metadata": {},
   "source": [
    "1. **If statement**"
   ]
  },
  {
   "cell_type": "markdown",
   "metadata": {},
   "source": [
    "**Syntax is**\n",
    "* The if keyword\n",
    "* A condition (that is, an expression that evaluates to True or False)\n",
    "* A colon\n",
    "* Starting on the next line, an indented block of code (called the if clause)"
   ]
  },
  {
   "cell_type": "code",
   "execution_count": 15,
   "metadata": {},
   "outputs": [],
   "source": [
    "name = 'IQRA'"
   ]
  },
  {
   "cell_type": "code",
   "execution_count": 16,
   "metadata": {},
   "outputs": [
    {
     "name": "stdout",
     "output_type": "stream",
     "text": [
      "The name is matched\n"
     ]
    }
   ],
   "source": [
    "if name =='IQRA':\n",
    "    print('The name is matched')"
   ]
  },
  {
   "cell_type": "markdown",
   "metadata": {},
   "source": [
    "2. **Else Statement**"
   ]
  },
  {
   "cell_type": "markdown",
   "metadata": {},
   "source": [
    "**Syntax is**\n",
    "* The else keyword\n",
    "* A colon\n",
    "* Starting on the next line, an indented block of code (called the else clause)"
   ]
  },
  {
   "cell_type": "code",
   "execution_count": 17,
   "metadata": {},
   "outputs": [
    {
     "name": "stdout",
     "output_type": "stream",
     "text": [
      "The name is not matched\n"
     ]
    }
   ],
   "source": [
    "if name == 'Iqra':\n",
    "    print('The name is matched')\n",
    "else:\n",
    "    print('The name is not matched')"
   ]
  },
  {
   "cell_type": "markdown",
   "metadata": {},
   "source": [
    "3. **elif statement**"
   ]
  },
  {
   "cell_type": "markdown",
   "metadata": {},
   "source": [
    "**Syntax is**\n",
    "* The elif keyword\n",
    "* A condition (that is, an expression that evaluates to True or False)\n",
    "* A colon\n",
    "* Starting on the next line, an indented block of code (called the elif clause)"
   ]
  },
  {
   "cell_type": "code",
   "execution_count": 24,
   "metadata": {},
   "outputs": [
    {
     "name": "stdout",
     "output_type": "stream",
     "text": [
      "Hi, Noor.\n"
     ]
    }
   ],
   "source": [
    "name = 'Noor'\n",
    "age = int(22)\n",
    "if name == 'Noor':\n",
    "    print('Hi, Noor.')\n",
    "elif age < 12:\n",
    "    print('You are not Noor, kiddo.')\n",
    "elif age > 100:\n",
    "    print('You are not Noor, grannpa.')\n",
    "elif age > 2000:\n",
    "    print('Unlike you, Noor is not an undead, immortal vampire.')"
   ]
  },
  {
   "cell_type": "code",
   "execution_count": 21,
   "metadata": {},
   "outputs": [
    {
     "name": "stdout",
     "output_type": "stream",
     "text": [
      "noor\n"
     ]
    }
   ],
   "source": [
    "print('noor')"
   ]
  },
  {
   "cell_type": "markdown",
   "metadata": {},
   "source": [
    "4. **While Loop Statement**\n",
    "    * **Break Statment**\n",
    "    * **Continue Statement**"
   ]
  },
  {
   "cell_type": "markdown",
   "metadata": {},
   "source": [
    "**Syntax is**\n",
    "* The while keyword\n",
    "* A condition (that is, an expression that evaluates to True or False)\n",
    "* A colon\n",
    "* Starting on the next line, an indented block of code (called the while clause)"
   ]
  },
  {
   "cell_type": "code",
   "execution_count": 25,
   "metadata": {},
   "outputs": [
    {
     "name": "stdout",
     "output_type": "stream",
     "text": [
      "Please type your name:-\n",
      "Noor\n",
      "Thank you!\n"
     ]
    }
   ],
   "source": [
    "name = 'noor'\n",
    "while name != 'Noor':\n",
    "    print('Please type your name:-')\n",
    "    name = input()\n",
    "print('Thank you!')"
   ]
  },
  {
   "cell_type": "markdown",
   "metadata": {},
   "source": [
    "**Break Statement**"
   ]
  },
  {
   "cell_type": "code",
   "execution_count": 26,
   "metadata": {},
   "outputs": [
    {
     "name": "stdout",
     "output_type": "stream",
     "text": [
      "Please type your name:-\n",
      "Noor\n",
      "Thank you!\n"
     ]
    }
   ],
   "source": [
    "name = 'noor'\n",
    "while name != 'Noor':\n",
    "    print('Please type your name:-')\n",
    "    name = input()\n",
    "    if name == 'your name':\n",
    "        break\n",
    "print('Thank you!')"
   ]
  },
  {
   "cell_type": "markdown",
   "metadata": {},
   "source": [
    "**Continue Statement**"
   ]
  },
  {
   "cell_type": "code",
   "execution_count": 28,
   "metadata": {},
   "outputs": [
    {
     "name": "stdout",
     "output_type": "stream",
     "text": [
      "Who are you?\n",
      "Joe\n",
      "Hello, Joe. What is the password? (It is a fish.)\n",
      "swordfish\n",
      "Access granted.\n"
     ]
    }
   ],
   "source": [
    "while True:\n",
    "    print('Who are you?')\n",
    "    name = input()\n",
    "    if name != 'Joe':\n",
    "        continue\n",
    "    print('Hello, Joe. What is the password? (It is a fish.)')\n",
    "    password = input()\n",
    "    if password == 'swordfish':\n",
    "        break\n",
    "print('Access granted.')"
   ]
  },
  {
   "cell_type": "markdown",
   "metadata": {},
   "source": [
    "## For loop using Range Function"
   ]
  },
  {
   "cell_type": "markdown",
   "metadata": {},
   "source": [
    "**The range method is used for the itterations in program**"
   ]
  },
  {
   "cell_type": "markdown",
   "metadata": {},
   "source": [
    "**Syntax is**\n",
    "* The for keyword\n",
    "* A variable name\n",
    "* The in keyword\n",
    "* A call to the range() method with up to three integers passed to it\n",
    "* A colon\n",
    "* Starting on the next line, an indented block of code (called the for clause"
   ]
  },
  {
   "cell_type": "code",
   "execution_count": 31,
   "metadata": {},
   "outputs": [
    {
     "name": "stdout",
     "output_type": "stream",
     "text": [
      "My name is  IQRA Learnings\n",
      "Number of itteration (0)\n",
      "Number of itteration (1)\n",
      "Number of itteration (2)\n",
      "Number of itteration (3)\n",
      "Number of itteration (4)\n"
     ]
    }
   ],
   "source": [
    "name = 'IQRA Learnings'\n",
    "print('My name is ', name)\n",
    "for i in range(5):\n",
    "    print('Number of itteration (' + str(i) + ')')"
   ]
  },
  {
   "cell_type": "markdown",
   "metadata": {},
   "source": [
    "### The range( ) function repeats the program for given interval of itterations"
   ]
  },
  {
   "cell_type": "code",
   "execution_count": 32,
   "metadata": {},
   "outputs": [
    {
     "name": "stdout",
     "output_type": "stream",
     "text": [
      "0\n",
      "1\n",
      "2\n",
      "3\n",
      "4\n",
      "5\n",
      "6\n",
      "7\n",
      "8\n",
      "9\n"
     ]
    }
   ],
   "source": [
    "for i in range(10):\n",
    "    print(i)"
   ]
  },
  {
   "cell_type": "code",
   "execution_count": 33,
   "metadata": {},
   "outputs": [
    {
     "name": "stdout",
     "output_type": "stream",
     "text": [
      "1\n",
      "2\n",
      "3\n",
      "4\n",
      "5\n",
      "6\n",
      "7\n",
      "8\n",
      "9\n",
      "10\n",
      "11\n",
      "12\n",
      "13\n",
      "14\n",
      "15\n",
      "16\n",
      "17\n",
      "18\n",
      "19\n",
      "20\n",
      "21\n",
      "22\n",
      "23\n",
      "24\n",
      "25\n",
      "26\n",
      "27\n",
      "28\n",
      "29\n",
      "30\n",
      "31\n",
      "32\n",
      "33\n",
      "34\n",
      "35\n",
      "36\n",
      "37\n",
      "38\n",
      "39\n",
      "40\n",
      "41\n",
      "42\n",
      "43\n",
      "44\n",
      "45\n",
      "46\n",
      "47\n",
      "48\n",
      "49\n",
      "50\n",
      "51\n",
      "52\n",
      "53\n",
      "54\n",
      "55\n",
      "56\n",
      "57\n",
      "58\n",
      "59\n",
      "60\n",
      "61\n",
      "62\n",
      "63\n",
      "64\n",
      "65\n",
      "66\n",
      "67\n",
      "68\n",
      "69\n",
      "70\n",
      "71\n",
      "72\n",
      "73\n",
      "74\n",
      "75\n",
      "76\n",
      "77\n",
      "78\n",
      "79\n",
      "80\n",
      "81\n",
      "82\n",
      "83\n",
      "84\n",
      "85\n",
      "86\n",
      "87\n",
      "88\n",
      "89\n",
      "90\n",
      "91\n",
      "92\n",
      "93\n",
      "94\n",
      "95\n",
      "96\n",
      "97\n",
      "98\n",
      "99\n",
      "100\n"
     ]
    }
   ],
   "source": [
    "# If we need the numbers from 1 to 100 we have to give the y value as n+1 value\n",
    "for i in range(1,101):\n",
    "    print(i)"
   ]
  },
  {
   "cell_type": "code",
   "execution_count": 34,
   "metadata": {},
   "outputs": [
    {
     "name": "stdout",
     "output_type": "stream",
     "text": [
      "1\n",
      "3\n",
      "5\n",
      "7\n",
      "9\n",
      "11\n",
      "13\n",
      "15\n",
      "17\n",
      "19\n",
      "21\n",
      "23\n",
      "25\n",
      "27\n",
      "29\n",
      "31\n",
      "33\n",
      "35\n",
      "37\n",
      "39\n",
      "41\n",
      "43\n",
      "45\n",
      "47\n",
      "49\n"
     ]
    }
   ],
   "source": [
    "# If we need the numbers with differrence\n",
    "for i in range(1,50,2):   # Where (x,y,z) z is the difference number\n",
    "    print(i)"
   ]
  },
  {
   "cell_type": "code",
   "execution_count": 36,
   "metadata": {},
   "outputs": [
    {
     "name": "stdout",
     "output_type": "stream",
     "text": [
      "1\n",
      "6\n",
      "11\n",
      "16\n",
      "21\n",
      "26\n",
      "31\n",
      "36\n",
      "41\n",
      "46\n"
     ]
    }
   ],
   "source": [
    "for i in range(1,50,5): # Difference of 5\n",
    "    print(i)"
   ]
  },
  {
   "cell_type": "markdown",
   "metadata": {},
   "source": [
    "**lets write a small program for printing the multiplication table of given number**"
   ]
  },
  {
   "cell_type": "markdown",
   "metadata": {},
   "source": [
    "POINTS"
   ]
  },
  {
   "cell_type": "markdown",
   "metadata": {},
   "source": [
    "1. User Input\n",
    "2. Logic"
   ]
  },
  {
   "cell_type": "code",
   "execution_count": 38,
   "metadata": {},
   "outputs": [
    {
     "name": "stdout",
     "output_type": "stream",
     "text": [
      "Enter the number of multiplication table you want:- 10\n",
      "Entered number is 10\n",
      "10 x 1 = 10\n",
      "10 x 2 = 20\n",
      "10 x 3 = 30\n",
      "10 x 4 = 40\n",
      "10 x 5 = 50\n",
      "10 x 6 = 60\n",
      "10 x 7 = 70\n",
      "10 x 8 = 80\n",
      "10 x 9 = 90\n",
      "10 x 10 = 100\n"
     ]
    }
   ],
   "source": [
    "x = int(input('Enter the number of multiplication table you want:- '))\n",
    "print('Entered number is', x)\n",
    "for i in range(1,11):   # (x,y+1)\n",
    "    print(x, 'x', i, '=', x*i)   # Logic\n",
    "    # let x = 10\n",
    "    # 10, 'x', i(1,10) ,'=', 10*(1,10)"
   ]
  },
  {
   "cell_type": "markdown",
   "metadata": {},
   "source": [
    "### Printing Tables form 1 to 20 OR from x to y values"
   ]
  },
  {
   "cell_type": "code",
   "execution_count": 39,
   "metadata": {},
   "outputs": [
    {
     "name": "stdout",
     "output_type": "stream",
     "text": [
      "Enter the Starting Multiplication Number :- 1\n",
      "Enter the Ending Multiplication Number :- 20\n",
      "\n",
      "___________Execution Starts___________\n",
      "\n",
      "Starting Multiplication Number is :- ( 1 )\n",
      "Ending Multiplication Number is :- ( 20 )\n",
      "\n",
      " Multiplication Table of :- ( 1 )\n",
      "      1 x 1 = 1\n",
      "      1 x 2 = 2\n",
      "      1 x 3 = 3\n",
      "      1 x 4 = 4\n",
      "      1 x 5 = 5\n",
      "      1 x 6 = 6\n",
      "      1 x 7 = 7\n",
      "      1 x 8 = 8\n",
      "      1 x 9 = 9\n",
      "      1 x 10 = 10\n",
      "\n",
      " Multiplication Table of :- ( 2 )\n",
      "      2 x 1 = 2\n",
      "      2 x 2 = 4\n",
      "      2 x 3 = 6\n",
      "      2 x 4 = 8\n",
      "      2 x 5 = 10\n",
      "      2 x 6 = 12\n",
      "      2 x 7 = 14\n",
      "      2 x 8 = 16\n",
      "      2 x 9 = 18\n",
      "      2 x 10 = 20\n",
      "\n",
      " Multiplication Table of :- ( 3 )\n",
      "      3 x 1 = 3\n",
      "      3 x 2 = 6\n",
      "      3 x 3 = 9\n",
      "      3 x 4 = 12\n",
      "      3 x 5 = 15\n",
      "      3 x 6 = 18\n",
      "      3 x 7 = 21\n",
      "      3 x 8 = 24\n",
      "      3 x 9 = 27\n",
      "      3 x 10 = 30\n",
      "\n",
      " Multiplication Table of :- ( 4 )\n",
      "      4 x 1 = 4\n",
      "      4 x 2 = 8\n",
      "      4 x 3 = 12\n",
      "      4 x 4 = 16\n",
      "      4 x 5 = 20\n",
      "      4 x 6 = 24\n",
      "      4 x 7 = 28\n",
      "      4 x 8 = 32\n",
      "      4 x 9 = 36\n",
      "      4 x 10 = 40\n",
      "\n",
      " Multiplication Table of :- ( 5 )\n",
      "      5 x 1 = 5\n",
      "      5 x 2 = 10\n",
      "      5 x 3 = 15\n",
      "      5 x 4 = 20\n",
      "      5 x 5 = 25\n",
      "      5 x 6 = 30\n",
      "      5 x 7 = 35\n",
      "      5 x 8 = 40\n",
      "      5 x 9 = 45\n",
      "      5 x 10 = 50\n",
      "\n",
      " Multiplication Table of :- ( 6 )\n",
      "      6 x 1 = 6\n",
      "      6 x 2 = 12\n",
      "      6 x 3 = 18\n",
      "      6 x 4 = 24\n",
      "      6 x 5 = 30\n",
      "      6 x 6 = 36\n",
      "      6 x 7 = 42\n",
      "      6 x 8 = 48\n",
      "      6 x 9 = 54\n",
      "      6 x 10 = 60\n",
      "\n",
      " Multiplication Table of :- ( 7 )\n",
      "      7 x 1 = 7\n",
      "      7 x 2 = 14\n",
      "      7 x 3 = 21\n",
      "      7 x 4 = 28\n",
      "      7 x 5 = 35\n",
      "      7 x 6 = 42\n",
      "      7 x 7 = 49\n",
      "      7 x 8 = 56\n",
      "      7 x 9 = 63\n",
      "      7 x 10 = 70\n",
      "\n",
      " Multiplication Table of :- ( 8 )\n",
      "      8 x 1 = 8\n",
      "      8 x 2 = 16\n",
      "      8 x 3 = 24\n",
      "      8 x 4 = 32\n",
      "      8 x 5 = 40\n",
      "      8 x 6 = 48\n",
      "      8 x 7 = 56\n",
      "      8 x 8 = 64\n",
      "      8 x 9 = 72\n",
      "      8 x 10 = 80\n",
      "\n",
      " Multiplication Table of :- ( 9 )\n",
      "      9 x 1 = 9\n",
      "      9 x 2 = 18\n",
      "      9 x 3 = 27\n",
      "      9 x 4 = 36\n",
      "      9 x 5 = 45\n",
      "      9 x 6 = 54\n",
      "      9 x 7 = 63\n",
      "      9 x 8 = 72\n",
      "      9 x 9 = 81\n",
      "      9 x 10 = 90\n",
      "\n",
      " Multiplication Table of :- ( 10 )\n",
      "      10 x 1 = 10\n",
      "      10 x 2 = 20\n",
      "      10 x 3 = 30\n",
      "      10 x 4 = 40\n",
      "      10 x 5 = 50\n",
      "      10 x 6 = 60\n",
      "      10 x 7 = 70\n",
      "      10 x 8 = 80\n",
      "      10 x 9 = 90\n",
      "      10 x 10 = 100\n",
      "\n",
      " Multiplication Table of :- ( 11 )\n",
      "      11 x 1 = 11\n",
      "      11 x 2 = 22\n",
      "      11 x 3 = 33\n",
      "      11 x 4 = 44\n",
      "      11 x 5 = 55\n",
      "      11 x 6 = 66\n",
      "      11 x 7 = 77\n",
      "      11 x 8 = 88\n",
      "      11 x 9 = 99\n",
      "      11 x 10 = 110\n",
      "\n",
      " Multiplication Table of :- ( 12 )\n",
      "      12 x 1 = 12\n",
      "      12 x 2 = 24\n",
      "      12 x 3 = 36\n",
      "      12 x 4 = 48\n",
      "      12 x 5 = 60\n",
      "      12 x 6 = 72\n",
      "      12 x 7 = 84\n",
      "      12 x 8 = 96\n",
      "      12 x 9 = 108\n",
      "      12 x 10 = 120\n",
      "\n",
      " Multiplication Table of :- ( 13 )\n",
      "      13 x 1 = 13\n",
      "      13 x 2 = 26\n",
      "      13 x 3 = 39\n",
      "      13 x 4 = 52\n",
      "      13 x 5 = 65\n",
      "      13 x 6 = 78\n",
      "      13 x 7 = 91\n",
      "      13 x 8 = 104\n",
      "      13 x 9 = 117\n",
      "      13 x 10 = 130\n",
      "\n",
      " Multiplication Table of :- ( 14 )\n",
      "      14 x 1 = 14\n",
      "      14 x 2 = 28\n",
      "      14 x 3 = 42\n",
      "      14 x 4 = 56\n",
      "      14 x 5 = 70\n",
      "      14 x 6 = 84\n",
      "      14 x 7 = 98\n",
      "      14 x 8 = 112\n",
      "      14 x 9 = 126\n",
      "      14 x 10 = 140\n",
      "\n",
      " Multiplication Table of :- ( 15 )\n",
      "      15 x 1 = 15\n",
      "      15 x 2 = 30\n",
      "      15 x 3 = 45\n",
      "      15 x 4 = 60\n",
      "      15 x 5 = 75\n",
      "      15 x 6 = 90\n",
      "      15 x 7 = 105\n",
      "      15 x 8 = 120\n",
      "      15 x 9 = 135\n",
      "      15 x 10 = 150\n",
      "\n",
      " Multiplication Table of :- ( 16 )\n",
      "      16 x 1 = 16\n",
      "      16 x 2 = 32\n",
      "      16 x 3 = 48\n",
      "      16 x 4 = 64\n",
      "      16 x 5 = 80\n",
      "      16 x 6 = 96\n",
      "      16 x 7 = 112\n",
      "      16 x 8 = 128\n",
      "      16 x 9 = 144\n",
      "      16 x 10 = 160\n",
      "\n",
      " Multiplication Table of :- ( 17 )\n",
      "      17 x 1 = 17\n",
      "      17 x 2 = 34\n",
      "      17 x 3 = 51\n",
      "      17 x 4 = 68\n",
      "      17 x 5 = 85\n",
      "      17 x 6 = 102\n",
      "      17 x 7 = 119\n",
      "      17 x 8 = 136\n",
      "      17 x 9 = 153\n",
      "      17 x 10 = 170\n",
      "\n",
      " Multiplication Table of :- ( 18 )\n",
      "      18 x 1 = 18\n",
      "      18 x 2 = 36\n",
      "      18 x 3 = 54\n",
      "      18 x 4 = 72\n",
      "      18 x 5 = 90\n",
      "      18 x 6 = 108\n",
      "      18 x 7 = 126\n",
      "      18 x 8 = 144\n",
      "      18 x 9 = 162\n",
      "      18 x 10 = 180\n",
      "\n",
      " Multiplication Table of :- ( 19 )\n",
      "      19 x 1 = 19\n",
      "      19 x 2 = 38\n",
      "      19 x 3 = 57\n",
      "      19 x 4 = 76\n",
      "      19 x 5 = 95\n",
      "      19 x 6 = 114\n",
      "      19 x 7 = 133\n",
      "      19 x 8 = 152\n",
      "      19 x 9 = 171\n",
      "      19 x 10 = 190\n",
      "\n",
      " Multiplication Table of :- ( 20 )\n",
      "      20 x 1 = 20\n",
      "      20 x 2 = 40\n",
      "      20 x 3 = 60\n",
      "      20 x 4 = 80\n",
      "      20 x 5 = 100\n",
      "      20 x 6 = 120\n",
      "      20 x 7 = 140\n",
      "      20 x 8 = 160\n",
      "      20 x 9 = 180\n",
      "      20 x 10 = 200\n",
      "\n",
      "___________Execution Ends___________\n",
      "\n"
     ]
    }
   ],
   "source": [
    "x=int(input(\"Enter the Starting Multiplication Number :- \"))\n",
    "y=int(input(\"Enter the Ending Multiplication Number :- \"))\n",
    "print()\n",
    "print('___________Execution Starts___________')\n",
    "print()\n",
    "print(\"Starting Multiplication Number is :- (\", x,')')\n",
    "print(\"Ending Multiplication Number is :- (\", y,')')\n",
    "print()\n",
    "for i in range(x,y+1):\n",
    "    print(' Multiplication Table of :- (', i,')')\n",
    "    for j in range(1,11):\n",
    "            r=i*j\n",
    "            print(\"     \",i,\"x\",j,\"=\",r)\n",
    "    print(\"\")\n",
    "print(\"___________Execution Ends___________\")\n",
    "print()"
   ]
  },
  {
   "cell_type": "markdown",
   "metadata": {},
   "source": [
    "### As like we can perform many things using python simple commands\n",
    "### If any one wants to learn message me on +91 6302927979\n",
    "### Or Mail me on shaiknoormohammedsadiq@gmail.com"
   ]
  },
  {
   "cell_type": "markdown",
   "metadata": {},
   "source": [
    "# END"
   ]
  },
  {
   "cell_type": "markdown",
   "metadata": {},
   "source": [
    "# Thank You"
   ]
  }
 ],
 "metadata": {
  "kernelspec": {
   "display_name": "Python 3",
   "language": "python",
   "name": "python3"
  },
  "language_info": {
   "codemirror_mode": {
    "name": "ipython",
    "version": 3
   },
   "file_extension": ".py",
   "mimetype": "text/x-python",
   "name": "python",
   "nbconvert_exporter": "python",
   "pygments_lexer": "ipython3",
   "version": "3.7.6"
  }
 },
 "nbformat": 4,
 "nbformat_minor": 4
}
