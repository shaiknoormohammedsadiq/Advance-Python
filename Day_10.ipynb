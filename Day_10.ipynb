{
 "cells": [
  {
   "cell_type": "code",
   "execution_count": 4,
   "metadata": {
    "scrolled": true
   },
   "outputs": [
    {
     "name": "stdout",
     "output_type": "stream",
     "text": [
      "Enter Somthing: hello\n"
     ]
    }
   ],
   "source": [
    "# Write/Create File Using 'w'\n",
    "file = open(\"one.txt\",'w')\n",
    "file.write(input(\"Enter Somthing: \"))\n",
    "file.close()#saved data to file & terminate the connection b/w text file & python"
   ]
  },
  {
   "cell_type": "code",
   "execution_count": 9,
   "metadata": {},
   "outputs": [
    {
     "name": "stdout",
     "output_type": "stream",
     "text": [
      "<_io.TextIOWrapper name='one.txt' mode='r' encoding='cp1252'>\n",
      "hello\n"
     ]
    }
   ],
   "source": [
    "#Read Mode (r)\n",
    "temp = open('one.txt',\"r\")\n",
    "print(temp)\n",
    "data = temp.read()\n",
    "print(data)\n",
    "temp.close()"
   ]
  },
  {
   "cell_type": "code",
   "execution_count": 10,
   "metadata": {},
   "outputs": [
    {
     "name": "stdout",
     "output_type": "stream",
     "text": [
      "Enter How many Characters U want?3\n",
      "Enter File Name: one.txt\n",
      "hel\n"
     ]
    }
   ],
   "source": [
    "# Read Mode Example-2\n",
    "n = int(input(\"Enter How many Characters U want?\"))\n",
    "t = open(input(\"Enter File Name: \"))\n",
    "print(t.read(n))\n",
    "t.close()"
   ]
  },
  {
   "cell_type": "code",
   "execution_count": 3,
   "metadata": {},
   "outputs": [
    {
     "name": "stdout",
     "output_type": "stream",
     "text": [
      "Enter How many Characters U want?20\n",
      "Enter File Name: one.txt\n",
      "hello\n",
      "smmsoksdofmo\n"
     ]
    }
   ],
   "source": [
    "n = int(input(\"Enter How many Characters U want?\"))\n",
    "t = open(input(\"Enter File Name: \"))\n",
    "print(t.read(n))"
   ]
  },
  {
   "cell_type": "code",
   "execution_count": 4,
   "metadata": {},
   "outputs": [],
   "source": [
    "t.close()"
   ]
  },
  {
   "cell_type": "code",
   "execution_count": 5,
   "metadata": {},
   "outputs": [
    {
     "name": "stdout",
     "output_type": "stream",
     "text": [
      "Enter Append Data:- I am append data\n"
     ]
    }
   ],
   "source": [
    "# Append Mode (a)\n",
    "app = open('one.txt','a')\n",
    "app.write(\"\\n\"+input(\"Enter Append Data:- \"))\n",
    "app.close()"
   ]
  },
  {
   "cell_type": "code",
   "execution_count": 6,
   "metadata": {},
   "outputs": [
    {
     "name": "stdout",
     "output_type": "stream",
     "text": [
      "['hello\\n', 'smmsoksdofmoI am append data']\n"
     ]
    }
   ],
   "source": [
    "# readlines()\n",
    "a = open('one.txt','r')\n",
    "print(a.readlines())#readlines() returns list\n",
    "a.close()"
   ]
  },
  {
   "cell_type": "code",
   "execution_count": 8,
   "metadata": {},
   "outputs": [
    {
     "name": "stdout",
     "output_type": "stream",
     "text": [
      "Enter Length: 4\n",
      "['hello\\n']\n"
     ]
    }
   ],
   "source": [
    "# readlines()\n",
    "a = open('one.txt','r')\n",
    "print(a.readlines(int(input(\"Enter Length: \"))))#readlines() returns list\n",
    "a.close()"
   ]
  },
  {
   "cell_type": "code",
   "execution_count": 15,
   "metadata": {},
   "outputs": [
    {
     "name": "stdout",
     "output_type": "stream",
     "text": [
      "hello\n",
      "\n"
     ]
    }
   ],
   "source": [
    "# readline()\n",
    "a = open('one.txt','r')\n",
    "print(a.readline(40))#readline() returns string\n",
    "a.close()"
   ]
  },
  {
   "cell_type": "code",
   "execution_count": 17,
   "metadata": {},
   "outputs": [],
   "source": [
    "# writelines()\n",
    "b =open(\"apssdc.txt\",'w')\n",
    "b.writelines(['ravi','narayana']) # writelines accepts I/P in the format of list\n",
    "b.close()"
   ]
  },
  {
   "cell_type": "code",
   "execution_count": 18,
   "metadata": {},
   "outputs": [],
   "source": [
    "# read --> read(),readlines(), readline()\n",
    "# write--> write(), writelines()"
   ]
  },
  {
   "cell_type": "code",
   "execution_count": 19,
   "metadata": {},
   "outputs": [],
   "source": [
    "# list comprehension\n",
    "# store numbers b/w 1 to 100 in list\n",
    "# Assign not working\n",
    "# ':' not working,\n",
    "# not posiible to store values in other varibales\n",
    "numbers  = [temp for temp in range(1,100+1)]"
   ]
  },
  {
   "cell_type": "code",
   "execution_count": 20,
   "metadata": {},
   "outputs": [
    {
     "name": "stdout",
     "output_type": "stream",
     "text": [
      "[1, 2, 3, 4, 5, 6, 7, 8, 9, 10, 11, 12, 13, 14, 15, 16, 17, 18, 19, 20, 21, 22, 23, 24, 25, 26, 27, 28, 29, 30, 31, 32, 33, 34, 35, 36, 37, 38, 39, 40, 41, 42, 43, 44, 45, 46, 47, 48, 49, 50, 51, 52, 53, 54, 55, 56, 57, 58, 59, 60, 61, 62, 63, 64, 65, 66, 67, 68, 69, 70, 71, 72, 73, 74, 75, 76, 77, 78, 79, 80, 81, 82, 83, 84, 85, 86, 87, 88, 89, 90, 91, 92, 93, 94, 95, 96, 97, 98, 99, 100]\n"
     ]
    }
   ],
   "source": [
    "print(numbers)"
   ]
  },
  {
   "cell_type": "code",
   "execution_count": 24,
   "metadata": {},
   "outputs": [
    {
     "name": "stdout",
     "output_type": "stream",
     "text": [
      "Enter A:2\n",
      "Enter B:200\n"
     ]
    }
   ],
   "source": [
    "# store Even Numbers b/w 2 dynamic integers using List comprehnsion\n",
    "even_numbers = [i for i in range(int(input(\"Enter A:\")),int(input(\"Enter B:\")),2)]"
   ]
  },
  {
   "cell_type": "code",
   "execution_count": 25,
   "metadata": {},
   "outputs": [
    {
     "name": "stdout",
     "output_type": "stream",
     "text": [
      "[2, 4, 6, 8, 10, 12, 14, 16, 18, 20, 22, 24, 26, 28, 30, 32, 34, 36, 38, 40, 42, 44, 46, 48, 50, 52, 54, 56, 58, 60, 62, 64, 66, 68, 70, 72, 74, 76, 78, 80, 82, 84, 86, 88, 90, 92, 94, 96, 98, 100, 102, 104, 106, 108, 110, 112, 114, 116, 118, 120, 122, 124, 126, 128, 130, 132, 134, 136, 138, 140, 142, 144, 146, 148, 150, 152, 154, 156, 158, 160, 162, 164, 166, 168, 170, 172, 174, 176, 178, 180, 182, 184, 186, 188, 190, 192, 194, 196, 198]\n"
     ]
    }
   ],
   "source": [
    "print(even_numbers)"
   ]
  },
  {
   "cell_type": "code",
   "execution_count": 26,
   "metadata": {},
   "outputs": [
    {
     "name": "stdout",
     "output_type": "stream",
     "text": [
      "A:200\n",
      "B:310\n"
     ]
    }
   ],
   "source": [
    "#Ex-2\n",
    "Even1= [t for t in range(int(input(\"A:\")),int(input('B:'))) if t%2==0]"
   ]
  },
  {
   "cell_type": "code",
   "execution_count": 27,
   "metadata": {},
   "outputs": [
    {
     "name": "stdout",
     "output_type": "stream",
     "text": [
      "[200, 202, 204, 206, 208, 210, 212, 214, 216, 218, 220, 222, 224, 226, 228, 230, 232, 234, 236, 238, 240, 242, 244, 246, 248, 250, 252, 254, 256, 258, 260, 262, 264, 266, 268, 270, 272, 274, 276, 278, 280, 282, 284, 286, 288, 290, 292, 294, 296, 298, 300, 302, 304, 306, 308]\n"
     ]
    }
   ],
   "source": [
    "print(Even1)"
   ]
  },
  {
   "cell_type": "code",
   "execution_count": 28,
   "metadata": {},
   "outputs": [
    {
     "name": "stdout",
     "output_type": "stream",
     "text": [
      "Enter Something: python programming\n"
     ]
    }
   ],
   "source": [
    "# Ex-3\n",
    "data = [char for char in input(\"Enter Something: \")]"
   ]
  },
  {
   "cell_type": "code",
   "execution_count": 29,
   "metadata": {},
   "outputs": [
    {
     "name": "stdout",
     "output_type": "stream",
     "text": [
      "['p', 'y', 't', 'h', 'o', 'n', ' ', 'p', 'r', 'o', 'g', 'r', 'a', 'm', 'm', 'i', 'n', 'g']\n"
     ]
    }
   ],
   "source": [
    "print(data)"
   ]
  },
  {
   "cell_type": "code",
   "execution_count": 36,
   "metadata": {},
   "outputs": [],
   "source": [
    "numbers=[1,3,5,1,7,2,8,315,1,96,8]\n",
    "# ['odd','odd','odd','even']\n",
    "t = [\"even\" if j%2==0  else \"Odd\" for j in numbers]"
   ]
  },
  {
   "cell_type": "code",
   "execution_count": 34,
   "metadata": {},
   "outputs": [
    {
     "name": "stdout",
     "output_type": "stream",
     "text": [
      "['Odd', 'Odd', 'Odd', 'Odd', 'Odd', 'even', 'even', 'Odd', 'Odd', 'even', 'even']\n"
     ]
    }
   ],
   "source": [
    "print(t)"
   ]
  },
  {
   "cell_type": "code",
   "execution_count": null,
   "metadata": {},
   "outputs": [],
   "source": []
  }
 ],
 "metadata": {
  "kernelspec": {
   "display_name": "Python 3",
   "language": "python",
   "name": "python3"
  },
  "language_info": {
   "codemirror_mode": {
    "name": "ipython",
    "version": 3
   },
   "file_extension": ".py",
   "mimetype": "text/x-python",
   "name": "python",
   "nbconvert_exporter": "python",
   "pygments_lexer": "ipython3",
   "version": "3.7.6"
  }
 },
 "nbformat": 4,
 "nbformat_minor": 4
}
