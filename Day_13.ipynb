{
 "cells": [
  {
   "cell_type": "markdown",
   "metadata": {},
   "source": [
    "**Today topics**\n",
    "1. Object Oriented Programming\n",
    "2. Important functions in python (Map,filter)"
   ]
  },
  {
   "cell_type": "markdown",
   "metadata": {},
   "source": [
    "#### creating class and object for Car"
   ]
  },
  {
   "cell_type": "markdown",
   "metadata": {},
   "source": [
    "**Creating blueprint or prototype for car**"
   ]
  },
  {
   "cell_type": "code",
   "execution_count": 8,
   "metadata": {},
   "outputs": [],
   "source": [
    "class Car:\n",
    "    def __init__(self,color):\n",
    "        self.color = color\n",
    "    \n",
    "    def start(self):\n",
    "        print(\"engine on and Car was started\")\n",
    "    \n",
    "    def stop(self):\n",
    "        print(\"engine off and Car was stopped\")\n",
    "    \n",
    "    def whatIsmyColor(self):\n",
    "        print(\"my color is \",self.color)"
   ]
  },
  {
   "cell_type": "markdown",
   "metadata": {},
   "source": [
    "**creating object for Car**"
   ]
  },
  {
   "cell_type": "code",
   "execution_count": 9,
   "metadata": {},
   "outputs": [],
   "source": [
    "car1 = Car('blue')"
   ]
  },
  {
   "cell_type": "code",
   "execution_count": 10,
   "metadata": {},
   "outputs": [
    {
     "name": "stdout",
     "output_type": "stream",
     "text": [
      "engine on and Car was started\n"
     ]
    }
   ],
   "source": [
    "car1.start()"
   ]
  },
  {
   "cell_type": "code",
   "execution_count": 11,
   "metadata": {},
   "outputs": [],
   "source": [
    "car2 = Car('Red')"
   ]
  },
  {
   "cell_type": "code",
   "execution_count": 5,
   "metadata": {},
   "outputs": [
    {
     "name": "stdout",
     "output_type": "stream",
     "text": [
      "my color is  blue\n"
     ]
    }
   ],
   "source": [
    "car1.whatIsmyColor()"
   ]
  },
  {
   "cell_type": "code",
   "execution_count": null,
   "metadata": {},
   "outputs": [],
   "source": []
  },
  {
   "cell_type": "code",
   "execution_count": null,
   "metadata": {},
   "outputs": [],
   "source": []
  },
  {
   "cell_type": "code",
   "execution_count": 13,
   "metadata": {},
   "outputs": [],
   "source": [
    "class Student:\n",
    "    def __init__(XYZ,name,rollNo,branch,college):\n",
    "        XYZ.name = name\n",
    "        XYZ.rollNo = rollNo\n",
    "        XYZ.branch = branch\n",
    "        XYZ.college = college\n",
    "    \n",
    "    \n",
    "    def selfInfo(XYZ):\n",
    "        print('I am ',XYZ.name,'my rollno ',XYZ.rollNo,\n",
    "              'I am studing ',XYZ.branch,' in the college of',\n",
    "              XYZ.college\n",
    "             )\n",
    "    "
   ]
  },
  {
   "cell_type": "code",
   "execution_count": 14,
   "metadata": {},
   "outputs": [],
   "source": [
    "ram = Student('Ram','CSE123','CSE','Andhra University')"
   ]
  },
  {
   "cell_type": "code",
   "execution_count": 15,
   "metadata": {},
   "outputs": [
    {
     "name": "stdout",
     "output_type": "stream",
     "text": [
      "I am  Ram my rollno  CSE123 I am studing  CSE  in the college of Andhra University\n"
     ]
    }
   ],
   "source": [
    "ram.selfInfo()"
   ]
  },
  {
   "cell_type": "code",
   "execution_count": null,
   "metadata": {},
   "outputs": [],
   "source": []
  },
  {
   "cell_type": "markdown",
   "metadata": {},
   "source": [
    "**Why we are using self in function/behaviour?**"
   ]
  },
  {
   "cell_type": "code",
   "execution_count": 16,
   "metadata": {},
   "outputs": [],
   "source": [
    "class Person:\n",
    "    def __init__(self,name,email):\n",
    "        self.name = name\n",
    "        self.email = email\n",
    "    \n",
    "    def tellYourName():\n",
    "        print('my name is ',self.name)\n",
    "        # implement logic\n",
    "        \n",
    "    def tellYourEmail():\n",
    "        print('my email id is ',self.email)\n",
    "        "
   ]
  },
  {
   "cell_type": "code",
   "execution_count": 17,
   "metadata": {},
   "outputs": [],
   "source": [
    "obj1 = Person('Ramu','ramu@gmail.com')"
   ]
  },
  {
   "cell_type": "code",
   "execution_count": 18,
   "metadata": {},
   "outputs": [
    {
     "ename": "TypeError",
     "evalue": "tellYourEmail() takes 0 positional arguments but 1 was given",
     "output_type": "error",
     "traceback": [
      "\u001b[1;31m---------------------------------------------------------------------------\u001b[0m",
      "\u001b[1;31mTypeError\u001b[0m                                 Traceback (most recent call last)",
      "\u001b[1;32m<ipython-input-18-45f9b552b8f4>\u001b[0m in \u001b[0;36m<module>\u001b[1;34m\u001b[0m\n\u001b[1;32m----> 1\u001b[1;33m \u001b[0mobj1\u001b[0m\u001b[1;33m.\u001b[0m\u001b[0mtellYourEmail\u001b[0m\u001b[1;33m(\u001b[0m\u001b[1;33m)\u001b[0m\u001b[1;33m\u001b[0m\u001b[1;33m\u001b[0m\u001b[0m\n\u001b[0m",
      "\u001b[1;31mTypeError\u001b[0m: tellYourEmail() takes 0 positional arguments but 1 was given"
     ]
    }
   ],
   "source": [
    "obj1.tellYourEmail()"
   ]
  },
  {
   "cell_type": "code",
   "execution_count": 19,
   "metadata": {},
   "outputs": [
    {
     "data": {
      "text/plain": [
       "'PYTHON'"
      ]
     },
     "execution_count": 19,
     "metadata": {},
     "output_type": "execute_result"
    }
   ],
   "source": [
    "'python'.upper()"
   ]
  },
  {
   "cell_type": "code",
   "execution_count": null,
   "metadata": {},
   "outputs": [],
   "source": []
  },
  {
   "cell_type": "code",
   "execution_count": 22,
   "metadata": {},
   "outputs": [],
   "source": [
    "ayyappaCar = Car('Red')\n",
    "ramCar = Car('Red')"
   ]
  },
  {
   "cell_type": "code",
   "execution_count": 24,
   "metadata": {},
   "outputs": [
    {
     "data": {
      "text/plain": [
       "False"
      ]
     },
     "execution_count": 24,
     "metadata": {},
     "output_type": "execute_result"
    }
   ],
   "source": [
    "ayyappaCar == ramCar\n",
    "# here 2 seperate objects with different address"
   ]
  },
  {
   "cell_type": "code",
   "execution_count": null,
   "metadata": {},
   "outputs": [],
   "source": []
  },
  {
   "cell_type": "code",
   "execution_count": null,
   "metadata": {},
   "outputs": [],
   "source": []
  },
  {
   "cell_type": "markdown",
   "metadata": {},
   "source": [
    "**inheritence with person and patient**"
   ]
  },
  {
   "cell_type": "code",
   "execution_count": 27,
   "metadata": {},
   "outputs": [],
   "source": [
    "class Person:\n",
    "    def __init__(self,name,village):\n",
    "        self.name= name\n",
    "        self.village = village\n",
    "    \n",
    "    def info(self):\n",
    "        print('my name is {} i am from {}'.format(self.name,self.village))"
   ]
  },
  {
   "cell_type": "code",
   "execution_count": 28,
   "metadata": {},
   "outputs": [],
   "source": [
    "ayyappa = Person('Ayyappa','Vijayawada')"
   ]
  },
  {
   "cell_type": "code",
   "execution_count": 29,
   "metadata": {},
   "outputs": [
    {
     "name": "stdout",
     "output_type": "stream",
     "text": [
      "my name is Ayyappa i am from Vijayawada\n"
     ]
    }
   ],
   "source": [
    "ayyappa.info()"
   ]
  },
  {
   "cell_type": "markdown",
   "metadata": {},
   "source": [
    "syntax\n",
    "```\n",
    "class Child(Parent):\n",
    "   # implement logic\n",
    "```"
   ]
  },
  {
   "cell_type": "code",
   "execution_count": 31,
   "metadata": {},
   "outputs": [],
   "source": [
    "class Patient(Person):\n",
    "    def __init__(self,name,village,bloodPressure):\n",
    "        super().__init__(name,village)\n",
    "        self.bloodPressure = bloodPressure\n",
    "    \n",
    "    \n",
    "    def getBP(self):\n",
    "        print('my bloob pressure ',self.bloodPressure)\n",
    "    "
   ]
  },
  {
   "cell_type": "code",
   "execution_count": null,
   "metadata": {},
   "outputs": [],
   "source": []
  },
  {
   "cell_type": "code",
   "execution_count": 32,
   "metadata": {},
   "outputs": [],
   "source": [
    "sai = Patient('Sai','Vijayawada',80)"
   ]
  },
  {
   "cell_type": "markdown",
   "metadata": {},
   "source": [
    "**Is it possible to reuse or call the parent class function**"
   ]
  },
  {
   "cell_type": "code",
   "execution_count": 33,
   "metadata": {},
   "outputs": [
    {
     "name": "stdout",
     "output_type": "stream",
     "text": [
      "my name is Sai i am from Vijayawada\n"
     ]
    }
   ],
   "source": [
    "sai.info()"
   ]
  },
  {
   "cell_type": "code",
   "execution_count": 34,
   "metadata": {},
   "outputs": [
    {
     "name": "stdout",
     "output_type": "stream",
     "text": [
      "my bloob pressure  80\n"
     ]
    }
   ],
   "source": [
    "sai.getBP()"
   ]
  },
  {
   "cell_type": "code",
   "execution_count": null,
   "metadata": {},
   "outputs": [],
   "source": []
  },
  {
   "cell_type": "markdown",
   "metadata": {},
   "source": [
    "**Think like this**"
   ]
  },
  {
   "cell_type": "markdown",
   "metadata": {},
   "source": [
    "**Parent class has 10 different functions in that 2 functions not according to my requirement can i override the 2 functions?**"
   ]
  },
  {
   "cell_type": "code",
   "execution_count": null,
   "metadata": {},
   "outputs": [],
   "source": []
  },
  {
   "cell_type": "code",
   "execution_count": 35,
   "metadata": {},
   "outputs": [],
   "source": [
    "class Person:\n",
    "    def __init__(self,name,state,country):\n",
    "        self.name = name\n",
    "        self.state = state\n",
    "        self.country = country\n",
    "    \n",
    "    def info(self):\n",
    "        print('I am {} from {} in {}'.format(self.name,\n",
    "                                      self.state,\n",
    "                                      self.country))\n",
    "    \n",
    "    "
   ]
  },
  {
   "cell_type": "code",
   "execution_count": 37,
   "metadata": {},
   "outputs": [],
   "source": [
    "class Patient(Person):\n",
    "    def __init__(self,name,state,country,BP):\n",
    "        super().__init__(name,state,country)\n",
    "        self.BP = BP\n",
    "    \n",
    "    def info(self):\n",
    "        print('my name is ',self.name)\n",
    "    \n",
    "    \n",
    "    def getBP(self):\n",
    "        print('I have BP ',self.BP)"
   ]
  },
  {
   "cell_type": "code",
   "execution_count": 38,
   "metadata": {},
   "outputs": [],
   "source": [
    "sai = Patient('Sai','AP','India',80)"
   ]
  },
  {
   "cell_type": "code",
   "execution_count": 39,
   "metadata": {},
   "outputs": [
    {
     "name": "stdout",
     "output_type": "stream",
     "text": [
      "my name is  Sai\n"
     ]
    }
   ],
   "source": [
    "sai.info()"
   ]
  },
  {
   "cell_type": "markdown",
   "metadata": {},
   "source": [
    "**Advanatges of Object oriented Programming**\n",
    "*  It will give you think like a real world objects when solving problems\n",
    "* Data was binded for each object\n",
    "* Abstracition (Hiding the process and giving interface utilize)\n",
    "* Security also improved in oop"
   ]
  },
  {
   "cell_type": "code",
   "execution_count": null,
   "metadata": {},
   "outputs": [],
   "source": []
  },
  {
   "cell_type": "code",
   "execution_count": 49,
   "metadata": {},
   "outputs": [],
   "source": [
    "class Car:\n",
    "    def __init__(self,brand,color,fuel_percent):\n",
    "        self.brand = brand\n",
    "        self.color = color\n",
    "        self.fuel_percent = fuel_percent\n",
    "    \n",
    "    def start(self):\n",
    "        if self.fuel_percent > 0:\n",
    "            print('Car started')\n",
    "        else:\n",
    "            print('Not starting')\n",
    "        self.fuel_percent = self.fuel_percent - 10\n",
    "        \n",
    "    def stop(self):\n",
    "        print('Car was stopped')\n",
    "    \n",
    "    def getFuelPercentage(self):\n",
    "        print(\"Fule avaialble \",self.fuel_percent,'%')\n",
    "    \n",
    "    def setFuelPercentage(self,fuel_percentage):\n",
    "        self.fuel_percent = fuel_percentage\n",
    "        print('Done')\n",
    "        \n",
    "    \n",
    "            "
   ]
  },
  {
   "cell_type": "code",
   "execution_count": 50,
   "metadata": {},
   "outputs": [],
   "source": [
    "obj1 = Car('Audi','blue',50)"
   ]
  },
  {
   "cell_type": "code",
   "execution_count": 51,
   "metadata": {},
   "outputs": [
    {
     "name": "stdout",
     "output_type": "stream",
     "text": [
      "Fule avaialble  50 %\n"
     ]
    }
   ],
   "source": [
    "obj1.getFuelPercentage()"
   ]
  },
  {
   "cell_type": "code",
   "execution_count": 52,
   "metadata": {
    "scrolled": true
   },
   "outputs": [
    {
     "name": "stdout",
     "output_type": "stream",
     "text": [
      "Car started\n"
     ]
    }
   ],
   "source": [
    "obj1.start()"
   ]
  },
  {
   "cell_type": "code",
   "execution_count": 53,
   "metadata": {},
   "outputs": [
    {
     "name": "stdout",
     "output_type": "stream",
     "text": [
      "Car was stopped\n"
     ]
    }
   ],
   "source": [
    "obj1.stop()"
   ]
  },
  {
   "cell_type": "code",
   "execution_count": 54,
   "metadata": {},
   "outputs": [
    {
     "name": "stdout",
     "output_type": "stream",
     "text": [
      "Fule avaialble  40 %\n"
     ]
    }
   ],
   "source": [
    "obj1.getFuelPercentage()"
   ]
  },
  {
   "cell_type": "code",
   "execution_count": 55,
   "metadata": {},
   "outputs": [
    {
     "name": "stdout",
     "output_type": "stream",
     "text": [
      "Done\n"
     ]
    }
   ],
   "source": [
    "obj1.setFuelPercentage(90)"
   ]
  },
  {
   "cell_type": "code",
   "execution_count": 56,
   "metadata": {},
   "outputs": [
    {
     "name": "stdout",
     "output_type": "stream",
     "text": [
      "Fule avaialble  90 %\n"
     ]
    }
   ],
   "source": [
    "obj1.getFuelPercentage()"
   ]
  },
  {
   "cell_type": "code",
   "execution_count": null,
   "metadata": {},
   "outputs": [],
   "source": []
  }
 ],
 "metadata": {
  "kernelspec": {
   "display_name": "Python 3",
   "language": "python",
   "name": "python3"
  },
  "language_info": {
   "codemirror_mode": {
    "name": "ipython",
    "version": 3
   },
   "file_extension": ".py",
   "mimetype": "text/x-python",
   "name": "python",
   "nbconvert_exporter": "python",
   "pygments_lexer": "ipython3",
   "version": "3.7.6"
  }
 },
 "nbformat": 4,
 "nbformat_minor": 2
}
