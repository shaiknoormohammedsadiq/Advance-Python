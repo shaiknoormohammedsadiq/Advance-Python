{
 "cells": [
  {
   "cell_type": "markdown",
   "metadata": {},
   "source": [
    "# Advance Python by IQRA Learnings\n",
    "\n",
    "## Noor Mohammed Sadiq Shaik"
   ]
  },
  {
   "cell_type": "code",
   "execution_count": 1,
   "metadata": {
    "scrolled": true
   },
   "outputs": [
    {
     "name": "stdout",
     "output_type": "stream",
     "text": [
      "Hello World\n"
     ]
    }
   ],
   "source": [
    "print(\"Hello World\")"
   ]
  },
  {
   "cell_type": "markdown",
   "metadata": {},
   "source": [
    "### Different Python IDE\n",
    "\n",
    "1. Python IDLE\n",
    "1. Pycharm\n",
    "1. Atom\n",
    "1. VS Code\n",
    "1. Sublime Text\n",
    "1. Notebook++\n",
    "1. Spyder\n",
    "\n",
    "**The Above IDEs will be used for working on `.py` files**\n",
    "\n",
    "1. Jupyter Notebook\n",
    "1. Google Coleb\n",
    "1. DataLab\n",
    "1. JupyterLab\n",
    "\n",
    "**The Above IDEs will be used for working on `.ipynb` files**\n",
    "\n",
    ".ipynb --> Interactive PYthon NotebBook files"
   ]
  },
  {
   "cell_type": "markdown",
   "metadata": {},
   "source": [
    "# Markdown Syntax"
   ]
  },
  {
   "cell_type": "markdown",
   "metadata": {},
   "source": [
    "## ## - Heading2\n",
    "### ### - Heading3\n",
    "#### #### - Heading4\n",
    "##### ##### - Heading5\n",
    "###### ###### - Heading6"
   ]
  },
  {
   "cell_type": "markdown",
   "metadata": {},
   "source": [
    "To Execute the Cell - ShiftEnter"
   ]
  },
  {
   "cell_type": "markdown",
   "metadata": {},
   "source": [
    "## Shortcuts for Jupyter Notebook"
   ]
  },
  {
   "cell_type": "markdown",
   "metadata": {},
   "source": [
    "0. `ShiftEnter` - To ececute the current cell\n",
    "1. `Esc M` - Converting the Code cell into Markdown Cell\n",
    "2. `Esc Y` - For Converting Markdown Cell into Code cell\n",
    "3. `Esc A` - Isto insert New cell above the current cell\n",
    "4. `Esc B` - Isto insert New cell below the current cell\n",
    "5. `ESC DD` - to Delete the current cell\n",
    "6. `Esc L` - to Insert/Remove the Line Numbers for the current cell\n",
    "7. `Esc P` - For more Shortcuts"
   ]
  },
  {
   "cell_type": "markdown",
   "metadata": {},
   "source": [
    "## Syntax for Ordered List\n",
    "### Python Programming Advantages\n",
    "\n",
    "1. Easy to Write\n",
    "2. Easy to Learn\n",
    "    1. Open Source and Large Community\n",
    "        1. Python"
   ]
  },
  {
   "cell_type": "markdown",
   "metadata": {},
   "source": [
    "## Unordered List\n",
    "### Python Programming Advantages\n",
    "\n",
    "- Easy to Write\n",
    "- Easy to Learn\n",
    "    * Open Source and Large Community\n",
    "        * Python"
   ]
  },
  {
   "cell_type": "markdown",
   "metadata": {},
   "source": [
    "##### ![Image_Description](Image_path)\n",
    "\n",
    "\n",
    "![Python Logo](https://www.python.org/static/community_logos/python-logo-master-v3-TM.png)"
   ]
  },
  {
   "cell_type": "markdown",
   "metadata": {},
   "source": [
    "##### [Link_Description](External_link)\n",
    "\n",
    "\n",
    "[Python Logo_Reference_Link](https://www.python.hon-logo-master-v3-TM.png)"
   ]
  },
  {
   "cell_type": "markdown",
   "metadata": {},
   "source": [
    "<h1>Heading</h1>\n",
    "<h2>Heading2</h2>"
   ]
  },
  {
   "cell_type": "markdown",
   "metadata": {},
   "source": [
    "## Python Programming"
   ]
  },
  {
   "cell_type": "markdown",
   "metadata": {},
   "source": [
    "### Display Output\n",
    "\n",
    "print(data)"
   ]
  },
  {
   "cell_type": "code",
   "execution_count": 5,
   "metadata": {},
   "outputs": [
    {
     "name": "stdout",
     "output_type": "stream",
     "text": [
      "Hello World\n"
     ]
    }
   ],
   "source": [
    "print(\"Hello World\")"
   ]
  },
  {
   "cell_type": "markdown",
   "metadata": {},
   "source": [
    "### Input from the user\n",
    "\n",
    "input(\"Description\")"
   ]
  },
  {
   "cell_type": "code",
   "execution_count": 7,
   "metadata": {},
   "outputs": [
    {
     "name": "stdout",
     "output_type": "stream",
     "text": [
      "Enter Some Data: Hello\n"
     ]
    },
    {
     "data": {
      "text/plain": [
       "'Hello'"
      ]
     },
     "execution_count": 7,
     "metadata": {},
     "output_type": "execute_result"
    }
   ],
   "source": [
    "input(\"Enter Some Data: \")"
   ]
  },
  {
   "cell_type": "code",
   "execution_count": 8,
   "metadata": {},
   "outputs": [
    {
     "name": "stdout",
     "output_type": "stream",
     "text": [
      "Hello World\n"
     ]
    }
   ],
   "source": [
    "print(\"Hello World\")"
   ]
  },
  {
   "cell_type": "markdown",
   "metadata": {},
   "source": [
    "### Data Types\n",
    "\n",
    "1. int - Integer Numbers\n",
    "2. float - Floating Numbers\n",
    "3. string - Single/GroupOf characters"
   ]
  },
  {
   "cell_type": "markdown",
   "metadata": {},
   "source": [
    "#### Variable\n",
    " \n",
    "It is thing which stores some value"
   ]
  },
  {
   "cell_type": "markdown",
   "metadata": {},
   "source": [
    "### Properties of Identifier\n",
    "\n",
    "Identifier is a name given to the variable,classes ,functions.\n",
    "### Rules\n",
    "\n",
    "1. identifier should start with either alphabets[a-zA-Z] or _(underscore)\n",
    "2. identifier accepts numbers also\n",
    "3. it can not contain spaces and special symbols"
   ]
  },
  {
   "cell_type": "code",
   "execution_count": 13,
   "metadata": {},
   "outputs": [],
   "source": [
    "a = 10\n",
    "_a = 25.5\n",
    "a1 = \"Valid\"\n",
    "# 9a = \"In valid\"\n",
    "# a*6s_ = \"Invalid\""
   ]
  },
  {
   "cell_type": "markdown",
   "metadata": {},
   "source": [
    "## Checking the Datatype\n",
    "\n",
    "type(Valid_Variable)"
   ]
  },
  {
   "cell_type": "code",
   "execution_count": 14,
   "metadata": {},
   "outputs": [
    {
     "name": "stdout",
     "output_type": "stream",
     "text": [
      "<class 'int'> <class 'float'> <class 'str'>\n"
     ]
    }
   ],
   "source": [
    "print(type(a), type(_a), type(a1))"
   ]
  },
  {
   "cell_type": "code",
   "execution_count": 15,
   "metadata": {},
   "outputs": [
    {
     "data": {
      "text/plain": [
       "(float, str)"
      ]
     },
     "execution_count": 15,
     "metadata": {},
     "output_type": "execute_result"
    }
   ],
   "source": [
    "type(a)\n",
    "\n",
    "type(_a), type(a1)"
   ]
  }
 ],
 "metadata": {
  "kernelspec": {
   "display_name": "Python 3",
   "language": "python",
   "name": "python3"
  },
  "language_info": {
   "codemirror_mode": {
    "name": "ipython",
    "version": 3
   },
   "file_extension": ".py",
   "mimetype": "text/x-python",
   "name": "python",
   "nbconvert_exporter": "python",
   "pygments_lexer": "ipython3",
   "version": "3.7.6"
  }
 },
 "nbformat": 4,
 "nbformat_minor": 2
}
